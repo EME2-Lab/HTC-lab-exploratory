{
 "cells": [
  {
   "cell_type": "markdown",
   "metadata": {},
   "source": [
    "# Laboratory LCA of Hydrothermal Carbonization  \n",
    "This Jupyter notebook is for conducting an explaratory life cycle accessment (LCA) analysis to identify areas of sensitivity and further determine the optimal conditions for upscaling hydrothermal carbonization (HTC) under deep uncertainty. This notebook is organized in three sections: \n",
    "1) Project Setup: Importing main packages & ecoinvent databases \n",
    "2) Baseline LCA Model: Developing a baseline LCA model for evaluating environmental impacts, in the form of carbon,  for basic scenarios. \n",
    "3) Uncertainty Analysis: Performing a Monte Carlo simulation as a method of exploring optimal conditions for HTC to consider upon upscaling & futrue decision making, in consideration of lab-scale data uncertainty, utilizing a deterministic model.  \n",
    "\n",
    "This notebook serves as a supplementary analysis to ____"
   ]
  },
  {
   "cell_type": "markdown",
   "metadata": {},
   "source": [
    "## 1: Project Setup\n",
    "Installing required packages, setting up projects, and importing ecoinvent databases. Be sure to activate the virtual environment and install requirements.txt.  "
   ]
  },
  {
   "cell_type": "code",
   "execution_count": 1,
   "metadata": {},
   "outputs": [],
   "source": [
    "# Installing main packages\n",
    "import os\n",
    "import matplotlib.pyplot as plt\n",
    "import numpy as np\n",
    "import pandas as pd"
   ]
  },
  {
   "cell_type": "code",
   "execution_count": 2,
   "metadata": {},
   "outputs": [],
   "source": [
    "# Importing BW2 packages\n",
    "import brightway2 as bw\n",
    "from bw2data.parameters import ProjectParameter, ParameterManager, ActivityParameter"
   ]
  },
  {
   "cell_type": "code",
   "execution_count": 3,
   "metadata": {},
   "outputs": [],
   "source": [
    "# Import BW25 packages. \n",
    "import bw2data as bd\n",
    "import bw2io as bi\n",
    "import bw2calc as bc\n",
    "import bw2analyzer as bwa"
   ]
  },
  {
   "cell_type": "code",
   "execution_count": 4,
   "metadata": {},
   "outputs": [],
   "source": [
    "# Creating a new project: HTC-uncertainty \n",
    "bd.projects.set_current('HTC-uncertainty')"
   ]
  },
  {
   "cell_type": "code",
   "execution_count": 5,
   "metadata": {},
   "outputs": [
    {
     "name": "stdout",
     "output_type": "stream",
     "text": [
      "Biosphere database already present!!! No setup is needed\n"
     ]
    }
   ],
   "source": [
    "# Installing biosphere flows \n",
    "bi.bw2setup()"
   ]
  },
  {
   "cell_type": "code",
   "execution_count": 6,
   "metadata": {},
   "outputs": [],
   "source": [
    "# Getting main folder with ecoinvent files. Replace this with your own directory.  \n",
    "def get_ecoinvent_directory(): \n",
    "    return \"../../../../../../../demol/Documents/Research/LCA/ecoinvent_v3.10\""
   ]
  },
  {
   "cell_type": "code",
   "execution_count": 7,
   "metadata": {},
   "outputs": [],
   "source": [
    "def write_data(ei_path, ei_name): \n",
    "    if ei_name in bd.databases:\n",
    "        print(\"Database has already been imported.\")\n",
    "    else:\n",
    "        ei_importer = bi.SingleOutputEcospold2Importer(ei_path, ei_name, use_mp = False)\n",
    "        # Should you have a problem with \"unlinked exchanges\"\n",
    "        try: \n",
    "            ei_importer.add_unlinked_flows_to_biosphere_database() \n",
    "        except Exception as e:\n",
    "            print(f\"An error occurred: {e}\")\n",
    "        ei_importer.apply_strategies()\n",
    "        ei_importer.statistics()\n",
    "        ei_importer.write_database()\n",
    "        print(str(ei_name) + \" database is completed!\")"
   ]
  },
  {
   "cell_type": "code",
   "execution_count": 8,
   "metadata": {},
   "outputs": [],
   "source": [
    "def create_databases():\n",
    "    for folder in os.listdir(get_ecoinvent_directory()):\n",
    "        folder_path = os.path.join(get_ecoinvent_directory(), folder + \"/datasets\")\n",
    "        # Only using cutoff for this analysis \n",
    "        if os.path.isdir(folder_path) and 'cutoff' in folder:\n",
    "            write_data(folder_path, folder_path.split('\\\\')[-1])\n",
    "    print(bd.databases)"
   ]
  },
  {
   "cell_type": "code",
   "execution_count": 15,
   "metadata": {},
   "outputs": [
    {
     "name": "stderr",
     "output_type": "stream",
     "text": [
      "Extracting ecospold2 files:\n",
      "0% [##############################] 100% | ETA: 00:00:00 | Item ID: fffee1f5-12b7-5\n",
      "Total time elapsed: 00:12:46\n"
     ]
    },
    {
     "name": "stdout",
     "output_type": "stream",
     "text": [
      "Title: Extracting ecospold2 files:\n",
      "  Started: 06/17/2024 10:42:42\n",
      "  Finished: 06/17/2024 10:55:28\n",
      "  Total time elapsed: 00:12:46\n",
      "  CPU %: 16.10\n",
      "  Memory %: 22.19\n",
      "Extracted 23523 datasets in 769.81 seconds\n"
     ]
    },
    {
     "name": "stderr",
     "output_type": "stream",
     "text": [
      "Writing activities to SQLite3 database:\n",
      "0% [##############################] 100% | ETA: 00:00:00\n",
      "Total time elapsed: 00:00:00\n"
     ]
    },
    {
     "name": "stdout",
     "output_type": "stream",
     "text": [
      "Title: Writing activities to SQLite3 database:\n",
      "  Started: 06/17/2024 10:55:42\n",
      "  Finished: 06/17/2024 10:55:42\n",
      "  Total time elapsed: 00:00:00\n",
      "  CPU %: 85.20\n",
      "  Memory %: 23.88\n",
      "Applying strategy: link_iterable_by_fields\n",
      "Applying strategy: normalize_units\n",
      "Applying strategy: update_ecoinvent_locations\n",
      "Applying strategy: remove_zero_amount_coproducts\n",
      "Applying strategy: remove_zero_amount_inputs_with_no_activity\n",
      "Applying strategy: remove_unnamed_parameters\n",
      "Applying strategy: es2_assign_only_product_with_amount_as_reference_product\n",
      "Applying strategy: assign_single_product_as_activity\n",
      "Applying strategy: create_composite_code\n",
      "Applying strategy: drop_unspecified_subcategories\n",
      "Applying strategy: fix_ecoinvent_flows_pre35\n",
      "Applying strategy: drop_temporary_outdated_biosphere_flows\n",
      "Applying strategy: link_biosphere_by_flow_uuid\n",
      "Applying strategy: link_internal_technosphere_by_composite_code\n",
      "Applying strategy: delete_exchanges_missing_activity\n",
      "Applying strategy: delete_ghost_exchanges\n",
      "Applying strategy: remove_uncertainty_from_negative_loss_exchanges\n",
      "Applying strategy: fix_unreasonably_high_lognormal_uncertainties\n",
      "Applying strategy: convert_activity_parameters_to_list\n",
      "Applying strategy: add_cpc_classification_from_single_reference_product\n",
      "Applying strategy: delete_none_synonyms\n",
      "Applying strategy: update_social_flows_in_older_consequential\n",
      "Applying strategy: set_lognormal_loc_value\n",
      "Applied 22 strategies in 12.32 seconds\n",
      "23523 datasets\n",
      "743409 exchanges\n",
      "0 unlinked exchanges\n",
      "  \n"
     ]
    },
    {
     "name": "stderr",
     "output_type": "stream",
     "text": [
      "Writing activities to SQLite3 database:\n",
      "0% [##############################] 100% | ETA: 00:00:00\n",
      "Total time elapsed: 00:01:03\n"
     ]
    },
    {
     "name": "stdout",
     "output_type": "stream",
     "text": [
      "Title: Writing activities to SQLite3 database:\n",
      "  Started: 06/17/2024 10:56:09\n",
      "  Finished: 06/17/2024 10:57:12\n",
      "  Total time elapsed: 00:01:03\n",
      "  CPU %: 39.40\n",
      "  Memory %: 23.69\n",
      "Created database: cutoff/datasets\n",
      "cutoff/datasets database is completed!\n",
      "Databases dictionary with 3 object(s):\n",
      "\tapos/datasets\n",
      "\tbiosphere3\n",
      "\tcutoff/datasets\n"
     ]
    }
   ],
   "source": [
    "create_databases()"
   ]
  },
  {
   "cell_type": "code",
   "execution_count": 9,
   "metadata": {},
   "outputs": [
    {
     "data": {
      "text/plain": [
       "Databases dictionary with 2 object(s):\n",
       "\tbiosphere3\n",
       "\tcutoff/datasets"
      ]
     },
     "execution_count": 9,
     "metadata": {},
     "output_type": "execute_result"
    }
   ],
   "source": [
    "# Ensuring cutoff database has been imported correctly\n",
    "bd.databases"
   ]
  },
  {
   "cell_type": "code",
   "execution_count": 10,
   "metadata": {},
   "outputs": [],
   "source": [
    "# Creating database reference to not override or intefere with cutoff model: \n",
    "eidb = bd.Database(\"cutoff/datasets\")"
   ]
  },
  {
   "cell_type": "code",
   "execution_count": 11,
   "metadata": {},
   "outputs": [],
   "source": [
    "# Creating database reference to not override or intefere with the biosphere model: \n",
    "biosphere3 = bw.Database('biosphere3')"
   ]
  },
  {
   "cell_type": "code",
   "execution_count": 81,
   "metadata": {},
   "outputs": [
    {
     "name": "stdout",
     "output_type": "stream",
     "text": [
      "The imported ecoinvent database is of type <class 'bw2data.backends.peewee.database.SQLiteBackend'> and has a length of 23541.\n"
     ]
    }
   ],
   "source": [
    "# Checking for proper replication: \n",
    "print(\"The imported ecoinvent database is of type {} and has a length of {}.\".format(type(eidb), len(eidb)))"
   ]
  },
  {
   "cell_type": "code",
   "execution_count": 83,
   "metadata": {},
   "outputs": [
    {
     "name": "stdout",
     "output_type": "stream",
     "text": [
      "The biosphere database is of type <class 'bw2data.backends.peewee.database.SQLiteBackend'> and has a length of 1060.\n"
     ]
    }
   ],
   "source": [
    "# Checking for proper replication of biosphere database \n",
    "print(\"The biosphere database is of type {} and has a length of {}.\".format(type(biosphere3), len(biosphere3)))"
   ]
  },
  {
   "cell_type": "markdown",
   "metadata": {},
   "source": [
    "## 2: Baseline LCA\n",
    "Conducting a baseline LCA, as a foreground system for determining environmental impacts for main feedstocks based on numerical averages. The feedstocks of interest are as follows:  \n",
    " - SRU Feedstock with water to reach an 85% moisture content\n",
    " - BSG Feedstock with water to reach at 85% moisture content\n",
    " - DCW Feedstock (already above 85% moisture content; no additional water needed)"
   ]
  },
  {
   "cell_type": "markdown",
   "metadata": {},
   "source": [
    "### 2.1: Identifying Appropriate Flows\n",
    "All hydrothermal carbonization models have the following inputs: \n",
    "1) Feedstock: It will be assumed that the feedstock is a waste product and has no corresponding environmental impacts. The process of transporting food waste is not considered for this analysis.  \n",
    "2) Water: If needed, water is added to reach a moisture content. If not needed, water is 0. \n",
    "3) Electricity: Needed for stirring of an HTC reaction & for post-processing. \n",
    "4) Heat: Needed for the HTC reaction and post-processing steps. \n",
    "It will be assumed that the equipment itself has a long lifetime and any pre-processing for the equipment or environmental impacts for setting up or maintaining a system will not be explored in this analysis. \n",
    "\n",
    "Simultaneously, all hydrothermal carbonization models have the following outputs: \n",
    "1. Hydrochar (functional unit): The goal of this analysis is to determine the optimal method for producing a solid hydrochar (HC).  \n",
    "2. Carbon Dioxde: Gas yields from HTC are assumed to be pure CO<sub>2</sub> are emitted to the atmosphere. \n",
    "3. Wastewater: Process Water from the HTC process that requires treatment at a wastewater treatment plant. "
   ]
  },
  {
   "cell_type": "code",
   "execution_count": 13,
   "metadata": {},
   "outputs": [
    {
     "name": "stdout",
     "output_type": "stream",
     "text": [
      "'market group for electricity, low voltage' (kilowatt hour, US, None)\n"
     ]
    }
   ],
   "source": [
    "# Searching for Electricity\n",
    "for act in [act for act in eidb if 'market group for electricity, low voltage' in act['name']  and 'US' in act['location']]:\n",
    "    print(act)"
   ]
  },
  {
   "cell_type": "code",
   "execution_count": 14,
   "metadata": {},
   "outputs": [
    {
     "name": "stdout",
     "output_type": "stream",
     "text": [
      "'market group for electricity, low voltage' (kilowatt hour, US, None)\n"
     ]
    }
   ],
   "source": [
    "# Assuming Heat uses the same source as electricity, based on Parr reactor specifications\n",
    "# https://www.parrinst.com/products/stirred-reactors/series-4520-1-2l-bench-top-reactors/specifications/\n",
    "\n",
    "for act in [act for act in eidb if 'market group for electricity, low voltage' in act['name']  and 'US' in act['location']]:\n",
    "    print(act)"
   ]
  },
  {
   "cell_type": "code",
   "execution_count": 15,
   "metadata": {},
   "outputs": [
    {
     "name": "stdout",
     "output_type": "stream",
     "text": [
      "'market for water, completely softened' (kilogram, US, None)\n"
     ]
    }
   ],
   "source": [
    "# Searching for Water \n",
    "for act in [act for act in eidb if 'market for water, completely softened' in act['name']  and 'US' in act['location']]:\n",
    "    print(act)"
   ]
  },
  {
   "cell_type": "code",
   "execution_count": 16,
   "metadata": {},
   "outputs": [
    {
     "name": "stdout",
     "output_type": "stream",
     "text": [
      "'treatment of wastewater, average, wastewater treatment' (cubic meter, RoW, None)\n"
     ]
    }
   ],
   "source": [
    "# Searching for Wastewater \n",
    "for act in [act for act in eidb if 'treatment of wastewater, average, wastewater treatment' in act['name']  and 'RoW' in act['location']]:\n",
    "    print(act)"
   ]
  },
  {
   "cell_type": "code",
   "execution_count": 77,
   "metadata": {},
   "outputs": [
    {
     "name": "stdout",
     "output_type": "stream",
     "text": [
      "'Carbon dioxide, non-fossil' (kg, None, None)\n",
      "'Carbon dioxide, non-fossil, resource correction' (kg, None, None)\n"
     ]
    }
   ],
   "source": [
    "# Searching for Carbon Dioxide Stream; in this case the second option is of interest.  \n",
    "for flow in [flow for flow in biosphere3 if 'carbon dioxide, non-fossil' in flow['name'].lower()]:\n",
    "    print(flow)"
   ]
  },
  {
   "cell_type": "markdown",
   "metadata": {},
   "source": [
    "### 2.2: Setting Up Product System\n",
    "Creating product systems for main feedstocks"
   ]
  },
  {
   "cell_type": "code",
   "execution_count": 18,
   "metadata": {},
   "outputs": [],
   "source": [
    "from feedstock import Feedstock, FeedstockManager, create_elementary_feedstocks\n",
    "from model import get_feedstock_quantity, get_water_quantity, get_heat_needed, get_electricity_needed\n",
    "from model import  get_co2_emissions, get_pw, get_parameter, get_post_processing"
   ]
  },
  {
   "cell_type": "code",
   "execution_count": 19,
   "metadata": {},
   "outputs": [],
   "source": [
    "# If needed, delete existing parameters\n",
    "for item in ProjectParameter.select(): \n",
    "    item.delete()\n",
    "\n",
    "ProjectParameter.drop_table(safe=True, drop_sequences=True)\n",
    "# create a new empty table of project parameters\n",
    "ProjectParameter.create_table()\n",
    "\n",
    "for name in ProjectParameter.select():\n",
    "    name.print()"
   ]
  },
  {
   "cell_type": "code",
   "execution_count": 20,
   "metadata": {},
   "outputs": [],
   "source": [
    "# If needed, delete existing activities\n",
    "for act in [act for act in eidb if 'hydrochar production' in act['name']]:\n",
    "    act.delete()\n",
    "    \n",
    "for act in [act for act in eidb if 'hydrochar production' in act['name']]:\n",
    "    print(act)"
   ]
  },
  {
   "cell_type": "code",
   "execution_count": 21,
   "metadata": {},
   "outputs": [],
   "source": [
    "# Re initializing elementary feedstocks if needed\n",
    "elementary_feedstocks = create_elementary_feedstocks()"
   ]
  },
  {
   "cell_type": "code",
   "execution_count": 22,
   "metadata": {},
   "outputs": [
    {
     "name": "stdout",
     "output_type": "stream",
     "text": [
      "[{'name': 'feedstock_HTC_stdSRU_190C_1hr', 'amount': 4.405149378057423}, {'name': 'water_HTC_stdSRU_190C_1hr', 'amount': 1.4013095047525619}, {'name': 'heat_HTC_stdSRU_190C_1hr', 'amount': 1.802243989661737}, {'name': 'electricity_HTC_stdSRU_190C_1hr', 'amount': 0.04770949807419546}, {'name': 'co2_HTC_stdSRU_190C_1hr', 'amount': 0.013643627895201066}, {'name': 'wastewater_HTC_stdSRU_190C_1hr', 'amount': 4.792815254914784}, {'name': 'post_processing_HTC_stdSRU_190C_1hr', 'amount': 28.815}]\n",
      "\n",
      "[{'name': 'feedstock_HTC_stdSRU_190C_3hr', 'amount': 3.902283644770988}, {'name': 'water_HTC_stdSRU_190C_3hr', 'amount': 1.2413443205572885}, {'name': 'heat_HTC_stdSRU_190C_3hr', 'amount': 3.9700552622566088}, {'name': 'electricity_HTC_stdSRU_190C_3hr', 'amount': 0.1116802249166801}, {'name': 'co2_HTC_stdSRU_190C_3hr', 'amount': 0.019413962826294342}, {'name': 'wastewater_HTC_stdSRU_190C_3hr', 'amount': 4.124214002501982}, {'name': 'post_processing_HTC_stdSRU_190C_3hr', 'amount': 28.815}]\n",
      "\n",
      "[{'name': 'feedstock_HTC_stdSRU_220C_1hr', 'amount': 3.7264623022564547}, {'name': 'water_HTC_stdSRU_220C_1hr', 'amount': 1.1854142947490336}, {'name': 'heat_HTC_stdSRU_220C_1hr', 'amount': 2.0065422780511994}, {'name': 'electricity_HTC_stdSRU_220C_1hr', 'amount': 0.047720945479299004}, {'name': 'co2_HTC_stdSRU_220C_1hr', 'amount': 0.025540593899685816}, {'name': 'wastewater_HTC_stdSRU_220C_1hr', 'amount': 3.8863360031058023}, {'name': 'post_processing_HTC_stdSRU_220C_1hr', 'amount': 28.815}]\n",
      "\n",
      "[{'name': 'feedstock_HTC_stdSRU_220C_3hr', 'amount': 3.6052537021371176}, {'name': 'water_HTC_stdSRU_220C_3hr', 'amount': 1.1468569726634246}, {'name': 'heat_HTC_stdSRU_220C_3hr', 'amount': 4.6373573706747475}, {'name': 'electricity_HTC_stdSRU_220C_3hr', 'amount': 0.11290551957793539}, {'name': 'co2_HTC_stdSRU_220C_3hr', 'amount': 0.03368262290040564}, {'name': 'wastewater_HTC_stdSRU_220C_3hr', 'amount': 3.718428051900137}, {'name': 'post_processing_HTC_stdSRU_220C_3hr', 'amount': 28.815}]\n",
      "\n",
      "[{'name': 'feedstock_HTC_stdSRU_250C_1hr', 'amount': 3.773150479084847}, {'name': 'water_HTC_stdSRU_250C_1hr', 'amount': 1.200266137520832}, {'name': 'heat_HTC_stdSRU_250C_1hr', 'amount': 2.3288673894075758}, {'name': 'electricity_HTC_stdSRU_250C_1hr', 'amount': 0.05026461527593569}, {'name': 'co2_HTC_stdSRU_250C_1hr', 'amount': 0.03403719297614136}, {'name': 'wastewater_HTC_stdSRU_250C_1hr', 'amount': 3.9393794236295374}, {'name': 'post_processing_HTC_stdSRU_250C_1hr', 'amount': 28.815}]\n",
      "\n",
      "[{'name': 'feedstock_HTC_stdSRU_250C_3hr', 'amount': 3.538103815037144}, {'name': 'water_HTC_stdSRU_250C_3hr', 'amount': 1.1254961135958599}, {'name': 'heat_HTC_stdSRU_250C_3hr', 'amount': 5.344440234799236}, {'name': 'electricity_HTC_stdSRU_250C_3hr', 'amount': 0.11484758841001667}, {'name': 'co2_HTC_stdSRU_250C_3hr', 'amount': 0.03175584261969031}, {'name': 'wastewater_HTC_stdSRU_250C_3hr', 'amount': 3.631844086013314}, {'name': 'post_processing_HTC_stdSRU_250C_3hr', 'amount': 28.815}]\n",
      "\n",
      "[{'name': 'feedstock_HTC_rawDCW_190C_1hr', 'amount': 82.8095634301734}, {'name': 'water_HTC_rawDCW_190C_1hr', 'amount': 0.0}, {'name': 'heat_HTC_rawDCW_190C_1hr', 'amount': 17.080005283678084}, {'name': 'electricity_HTC_rawDCW_190C_1hr', 'amount': 0.5254175586964392}, {'name': 'co2_HTC_rawDCW_190C_1hr', 'amount': 0.12118516960108892}, {'name': 'wastewater_HTC_rawDCW_190C_1hr', 'amount': 81.6883782605723}, {'name': 'post_processing_HTC_rawDCW_190C_1hr', 'amount': 28.815}]\n",
      "\n",
      "[{'name': 'feedstock_HTC_rawDCW_190C_3hr', 'amount': 54.457026041605026}, {'name': 'water_HTC_rawDCW_190C_3hr', 'amount': 0.0}, {'name': 'heat_HTC_rawDCW_190C_3hr', 'amount': 13.861886998120793}, {'name': 'electricity_HTC_rawDCW_190C_3hr', 'amount': 0.4512728255547088}, {'name': 'co2_HTC_rawDCW_190C_3hr', 'amount': 0.14313988821754794}, {'name': 'wastewater_HTC_rawDCW_190C_3hr', 'amount': 53.31388615338748}, {'name': 'post_processing_HTC_rawDCW_190C_3hr', 'amount': 28.815}]\n",
      "\n",
      "[{'name': 'feedstock_HTC_rawDCW_220C_1hr', 'amount': 55.6159106791985}, {'name': 'water_HTC_rawDCW_220C_1hr', 'amount': 0.0}, {'name': 'heat_HTC_rawDCW_220C_1hr', 'amount': 13.96029635717691}, {'name': 'electricity_HTC_rawDCW_220C_1hr', 'amount': 0.42538973670885977}, {'name': 'co2_HTC_rawDCW_220C_1hr', 'amount': 0.19500366054659704}, {'name': 'wastewater_HTC_rawDCW_220C_1hr', 'amount': 54.4209070186519}, {'name': 'post_processing_HTC_rawDCW_220C_1hr', 'amount': 28.815}]\n",
      "\n",
      "[{'name': 'feedstock_HTC_rawDCW_220C_3hr', 'amount': 59.45016663689984}, {'name': 'water_HTC_rawDCW_220C_3hr', 'amount': 0.0}, {'name': 'heat_HTC_rawDCW_220C_3hr', 'amount': 17.48422960332}, {'name': 'electricity_HTC_rawDCW_220C_3hr', 'amount': 0.5418962231053955}, {'name': 'co2_HTC_rawDCW_220C_3hr', 'amount': 0.24211560373134813}, {'name': 'wastewater_HTC_rawDCW_220C_3hr', 'amount': 58.20805103316849}, {'name': 'post_processing_HTC_rawDCW_220C_3hr', 'amount': 28.815}]\n",
      "\n",
      "[{'name': 'feedstock_HTC_rawDCW_250C_1hr', 'amount': 55.54281106706891}, {'name': 'water_HTC_rawDCW_250C_1hr', 'amount': 0.0}, {'name': 'heat_HTC_rawDCW_250C_1hr', 'amount': 16.071618959712737}, {'name': 'electricity_HTC_rawDCW_250C_1hr', 'amount': 0.48273112707202087}, {'name': 'co2_HTC_rawDCW_250C_1hr', 'amount': 0.2705613293834494}, {'name': 'wastewater_HTC_rawDCW_250C_1hr', 'amount': 54.27224973768546}, {'name': 'post_processing_HTC_rawDCW_250C_1hr', 'amount': 28.815}]\n",
      "\n",
      "[{'name': 'feedstock_HTC_rawDCW_250C_3hr', 'amount': 52.84035201177966}, {'name': 'water_HTC_rawDCW_250C_3hr', 'amount': 0.0}, {'name': 'heat_HTC_rawDCW_250C_3hr', 'amount': 18.429392932309625}, {'name': 'electricity_HTC_rawDCW_250C_3hr', 'amount': 0.5517320599213396}, {'name': 'co2_HTC_rawDCW_250C_3hr', 'amount': 0.2777161922305209}, {'name': 'wastewater_HTC_rawDCW_250C_3hr', 'amount': 51.562635819549136}, {'name': 'post_processing_HTC_rawDCW_250C_3hr', 'amount': 28.815}]\n",
      "\n",
      "[{'name': 'feedstock_HTC_stdBSG_190C_1hr', 'amount': 7.47169455298687}, {'name': 'water_HTC_stdBSG_190C_1hr', 'amount': 3.5811632604478727}, {'name': 'heat_HTC_stdBSG_190C_1hr', 'amount': 2.2779740642281054}, {'name': 'electricity_HTC_stdBSG_190C_1hr', 'amount': 0.05707773909465434}, {'name': 'co2_HTC_stdBSG_190C_1hr', 'amount': 0.0364460144504794}, {'name': 'wastewater_HTC_stdBSG_190C_1hr', 'amount': 10.016411798984263}, {'name': 'post_processing_HTC_stdBSG_190C_1hr', 'amount': 28.815}]\n",
      "\n",
      "[{'name': 'feedstock_HTC_stdBSG_190C_3hr', 'amount': 5.8500748091155295}, {'name': 'water_HTC_stdBSG_190C_3hr', 'amount': 2.8039252446289007}, {'name': 'heat_HTC_stdBSG_190C_3hr', 'amount': 4.272622283693647}, {'name': 'electricity_HTC_stdBSG_190C_3hr', 'amount': 0.11617570256069533}, {'name': 'co2_HTC_stdBSG_190C_3hr', 'amount': 0.047953443119271605}, {'name': 'wastewater_HTC_stdBSG_190C_3hr', 'amount': 7.606046610625158}, {'name': 'post_processing_HTC_stdBSG_190C_3hr', 'amount': 28.815}]\n",
      "\n",
      "[{'name': 'feedstock_HTC_stdBSG_220C_1hr', 'amount': 6.132052778217863}, {'name': 'water_HTC_stdBSG_220C_1hr', 'amount': 2.939076532739481}, {'name': 'heat_HTC_stdBSG_220C_1hr', 'amount': 2.4474660721699553}, {'name': 'electricity_HTC_stdBSG_220C_1hr', 'amount': 0.05634078737912236}, {'name': 'co2_HTC_stdBSG_220C_1hr', 'amount': 0.06700675649547974}, {'name': 'wastewater_HTC_stdBSG_220C_1hr', 'amount': 8.004122554461865}, {'name': 'post_processing_HTC_stdBSG_220C_1hr', 'amount': 28.815}]\n",
      "\n",
      "[{'name': 'feedstock_HTC_stdBSG_220C_3hr', 'amount': 6.159846284724898}, {'name': 'water_HTC_stdBSG_220C_3hr', 'amount': 2.9523978862391664}, {'name': 'heat_HTC_stdBSG_220C_3hr', 'amount': 5.1054824974774276}, {'name': 'electricity_HTC_stdBSG_220C_3hr', 'amount': 0.12093778613631977}, {'name': 'co2_HTC_stdBSG_220C_3hr', 'amount': 0.07933844198652908}, {'name': 'wastewater_HTC_stdBSG_220C_3hr', 'amount': 8.032905728977536}, {'name': 'post_processing_HTC_stdBSG_220C_3hr', 'amount': 28.815}]\n",
      "\n",
      "[{'name': 'feedstock_HTC_stdBSG_250C_1hr', 'amount': 6.6847586557526215}, {'name': 'water_HTC_stdBSG_250C_1hr', 'amount': 3.203986984903217}, {'name': 'heat_HTC_stdBSG_250C_1hr', 'amount': 2.944869962466106}, {'name': 'electricity_HTC_stdBSG_250C_1hr', 'amount': 0.06260219185225777}, {'name': 'co2_HTC_stdBSG_250C_1hr', 'amount': 0.09521741729206844}, {'name': 'wastewater_HTC_stdBSG_250C_1hr', 'amount': 8.793528223363769}, {'name': 'post_processing_HTC_stdBSG_250C_1hr', 'amount': 28.815}]\n",
      "\n",
      "[{'name': 'feedstock_HTC_stdBSG_250C_3hr', 'amount': 6.354714851588917}, {'name': 'water_HTC_stdBSG_250C_3hr', 'amount': 3.0457978703151456}, {'name': 'heat_HTC_stdBSG_250C_3hr', 'amount': 5.940318650792458}, {'name': 'electricity_HTC_stdBSG_250C_3hr', 'amount': 0.12559110371238166}, {'name': 'co2_HTC_stdBSG_250C_3hr', 'amount': 0.10913249017518395}, {'name': 'wastewater_HTC_stdBSG_250C_3hr', 'amount': 8.291380231728878}, {'name': 'post_processing_HTC_stdBSG_250C_3hr', 'amount': 28.815}]\n",
      "\n"
     ]
    }
   ],
   "source": [
    "# Creating Activities for Different Feedstocks \n",
    "excluded_feedstocks = {\"rawSRU\", \"rawBSG\"}\n",
    "for attr, feedstocks in elementary_feedstocks.__dict__.items():\n",
    "    for feedstock in feedstocks:\n",
    "        if feedstock.name not in excluded_feedstocks:\n",
    "            # for temp in HTC_temp:\n",
    "            #     for time in HTC_reaction_time:\n",
    "            temp = feedstock.temp\n",
    "            time = feedstock.time \n",
    "            hydrochar_production = eidb.new_activity(\n",
    "                code=f'HTC_{feedstock.name}_{temp}C_{time}hr',\n",
    "                name=f\"hydrochar production, {feedstock.name}_{temp}C_{time}hr\",\n",
    "                location='US',\n",
    "                unit=\"kg\"\n",
    "            )\n",
    "            parameters = ParameterManager()\n",
    "            yield_HC = get_parameter(f\"hydrochar production, {feedstock.name}_{temp}C_{time}hr\", 'HC_yield')\n",
    "            gas_yield = get_parameter(f\"hydrochar production, {feedstock.name}_{temp}C_{time}hr\", 'gas_yield')\n",
    "            project_data = [\n",
    "                {\n",
    "                    'name': 'feedstock_' + f'HTC_{feedstock.name}_{temp}C_{time}hr', \n",
    "                    'amount': get_feedstock_quantity(yield_HC, feedstock)\n",
    "                }, \n",
    "                {\n",
    "                    'name': 'water_' + f'HTC_{feedstock.name}_{temp}C_{time}hr', \n",
    "                    'amount': get_water_quantity(yield_HC, feedstock)\n",
    "                }, \n",
    "                {\n",
    "                    'name': 'heat_' + f'HTC_{feedstock.name}_{temp}C_{time}hr', \n",
    "                    'amount': get_heat_needed(feedstock, temp, time)\n",
    "                },\n",
    "                {\n",
    "                    'name': 'electricity_' + f'HTC_{feedstock.name}_{temp}C_{time}hr', \n",
    "                    'amount': get_electricity_needed(feedstock, time, temp)\n",
    "                }, \n",
    "                {\n",
    "                    'name': 'co2_' + f'HTC_{feedstock.name}_{temp}C_{time}hr',\n",
    "                    'amount': get_co2_emissions(yield_HC, gas_yield, feedstock)\n",
    "                }, \n",
    "                {\n",
    "                    'name': 'wastewater_' + f'HTC_{feedstock.name}_{temp}C_{time}hr', \n",
    "                    'amount': get_pw(yield_HC, gas_yield, feedstock, hc_placeholder=1)\n",
    "                },\n",
    "                {\n",
    "                    'name': 'post_processing_' + f'HTC_{feedstock.name}_{temp}C_{time}hr', \n",
    "                    'amount': get_post_processing(hc_placeholder=1)\n",
    "                }\n",
    "            ]\n",
    "            \n",
    "            print(project_data)\n",
    "            parameters.new_project_parameters(project_data)\n",
    "            \n",
    "            # for param in ProjectParameter.select():\n",
    "            #     print(param, param.amount)\n",
    "            \n",
    "            # Feedstock \n",
    "            hydrochar_production.new_exchange(input=('biosphere3', 'feedstock'), amount=0, unit=\"kg\", type='custom', formula= 'feedstock')\n",
    "            hydrochar_production.save()\n",
    "                                \n",
    "            # Water \n",
    "            water = [act for act in eidb if 'market for water, completely softened' in act['name']  and 'US' in act['location']][0]\n",
    "            hydrochar_production.new_exchange(input=water.key, amount=0, unit=\"kilogram\", type='technosphere', \n",
    "                                                formula= 'water_' + f'HTC_{feedstock.name}_{temp}C_{time}hr').save()\n",
    "            hydrochar_production.save()\n",
    "            \n",
    "            # Electricity\n",
    "            electricity = [act for act in eidb if 'market group for electricity, low voltage' in act['name']  and 'US' in act['location']][0]\n",
    "            hydrochar_production.new_exchange(input=electricity.key, amount=0, unit=\"kilowatt hour\", type='technosphere', \n",
    "                                                formula='electricity_' + f'HTC_{feedstock.name}_{temp}C_{time}hr').save()\n",
    "            hydrochar_production.save()\n",
    "            \n",
    "            # Heat \n",
    "            electricity = [act for act in eidb if 'market group for electricity, low voltage' in act['name']  and 'US' in act['location']][0]\n",
    "            hydrochar_production.new_exchange(input=electricity.key, amount=0, unit=\"kilowatt hour\", type='technosphere', \n",
    "                                                formula='heat_' + f'HTC_{feedstock.name}_{temp}C_{time}hr').save()\n",
    "            hydrochar_production.save()\n",
    "            \n",
    "            # CO2 Emissions\n",
    "            co2 = [flow for flow in biosphere3 if 'carbon dioxide, non-fossil' in flow['name'].lower()][1]\n",
    "            hydrochar_production.new_exchange(input=co2.key, amount=0, unit=\"kilogram\", type='biosphere', \n",
    "                                                formula='-1*co2_' + f'HTC_{feedstock.name}_{temp}C_{time}hr').save()\n",
    "            hydrochar_production.save()\n",
    "            \n",
    "            # Wastewater \n",
    "            wastewater = [act for act in eidb if 'treatment of wastewater, average, wastewater treatment' in act['name']  and 'RoW' in act['location']][0]\n",
    "            hydrochar_production.new_exchange(input=wastewater.key, amount=0, unit=\"cubic meter\", type='technosphere', \n",
    "                                                formula='-1*wastewater_' + f'HTC_{feedstock.name}_{temp}C_{time}hr/1000').save()\n",
    "            hydrochar_production.save()\n",
    "            \n",
    "            # Post-Processing\n",
    "            electricity = [act for act in eidb if 'market group for electricity, low voltage' in act['name']  and 'US' in act['location']][0]\n",
    "            hydrochar_production.new_exchange(input=electricity.key, amount=0, unit=\"kilowatt hour\", type='technosphere', \n",
    "                                                formula='post_processing_' + f'HTC_{feedstock.name}_{temp}C_{time}hr').save()\n",
    "            hydrochar_production.save()\n",
    "            \n",
    "            parameters.add_exchanges_to_group(f\"hydrochar production, {feedstock.name}_{temp}C_{time}hr\", hydrochar_production)\n",
    "            ActivityParameter.recalculate_exchanges(f\"hydrochar production, {feedstock.name}_{temp}C_{time}hr\")\n",
    "            print()        "
   ]
  },
  {
   "cell_type": "code",
   "execution_count": 24,
   "metadata": {},
   "outputs": [
    {
     "name": "stdout",
     "output_type": "stream",
     "text": [
      "'hydrochar production, rawDCW_190C_3hr' (kg, US, None)\n",
      "Exchange: 0.0 kilogram 'market for water, completely softened' (kilogram, US, None) to 'hydrochar production, rawDCW_190C_3hr' (kg, US, None)>\n",
      "Exchange: 0.4512728255547088 kilowatt hour 'market group for electricity, low voltage' (kilowatt hour, US, None) to 'hydrochar production, rawDCW_190C_3hr' (kg, US, None)>\n",
      "Exchange: 13.861886998120793 kilowatt hour 'market group for electricity, low voltage' (kilowatt hour, US, None) to 'hydrochar production, rawDCW_190C_3hr' (kg, US, None)>\n",
      "Exchange: -0.14313988821754794 kg 'Carbon dioxide, non-fossil' (kg, None, None) to 'hydrochar production, rawDCW_190C_3hr' (kg, US, None)>\n",
      "Exchange: -0.05331388615338748 cubic meter 'treatment of wastewater, average, wastewater treatment' (cubic meter, RoW, None) to 'hydrochar production, rawDCW_190C_3hr' (kg, US, None)>\n",
      "Exchange: 28.815 kilowatt hour 'market group for electricity, low voltage' (kilowatt hour, US, None) to 'hydrochar production, rawDCW_190C_3hr' (kg, US, None)>\n",
      "\n",
      "'hydrochar production, rawDCW_220C_3hr' (kg, US, None)\n",
      "Exchange: 0.0 kilogram 'market for water, completely softened' (kilogram, US, None) to 'hydrochar production, rawDCW_220C_3hr' (kg, US, None)>\n",
      "Exchange: 0.5418962231053955 kilowatt hour 'market group for electricity, low voltage' (kilowatt hour, US, None) to 'hydrochar production, rawDCW_220C_3hr' (kg, US, None)>\n",
      "Exchange: 17.48422960332 kilowatt hour 'market group for electricity, low voltage' (kilowatt hour, US, None) to 'hydrochar production, rawDCW_220C_3hr' (kg, US, None)>\n",
      "Exchange: -0.24211560373134813 kg 'Carbon dioxide, non-fossil, resource correction' (kg, None, None) to 'hydrochar production, rawDCW_220C_3hr' (kg, US, None)>\n",
      "Exchange: -0.058208051033168486 cubic meter 'treatment of wastewater, average, wastewater treatment' (cubic meter, RoW, None) to 'hydrochar production, rawDCW_220C_3hr' (kg, US, None)>\n",
      "Exchange: 28.815 kilowatt hour 'market group for electricity, low voltage' (kilowatt hour, US, None) to 'hydrochar production, rawDCW_220C_3hr' (kg, US, None)>\n",
      "\n",
      "'hydrochar production, stdSRU_250C_1hr' (kg, US, None)\n",
      "Exchange: 1.200266137520832 kilogram 'market for water, completely softened' (kilogram, US, None) to 'hydrochar production, stdSRU_250C_1hr' (kg, US, None)>\n",
      "Exchange: 0.05026461527593569 kilowatt hour 'market group for electricity, low voltage' (kilowatt hour, US, None) to 'hydrochar production, stdSRU_250C_1hr' (kg, US, None)>\n",
      "Exchange: 2.3288673894075758 kilowatt hour 'market group for electricity, low voltage' (kilowatt hour, US, None) to 'hydrochar production, stdSRU_250C_1hr' (kg, US, None)>\n",
      "Exchange: -0.03403719297614136 kg 'Carbon dioxide, non-fossil' (kg, None, None) to 'hydrochar production, stdSRU_250C_1hr' (kg, US, None)>\n",
      "Exchange: -0.0039393794236295375 cubic meter 'treatment of wastewater, average, wastewater treatment' (cubic meter, RoW, None) to 'hydrochar production, stdSRU_250C_1hr' (kg, US, None)>\n",
      "Exchange: 28.815 kilowatt hour 'market group for electricity, low voltage' (kilowatt hour, US, None) to 'hydrochar production, stdSRU_250C_1hr' (kg, US, None)>\n",
      "\n",
      "'hydrochar production, stdBSG_250C_1hr' (kg, US, None)\n",
      "Exchange: 3.203986984903217 kilogram 'market for water, completely softened' (kilogram, US, None) to 'hydrochar production, stdBSG_250C_1hr' (kg, US, None)>\n",
      "Exchange: 0.06260219185225777 kilowatt hour 'market group for electricity, low voltage' (kilowatt hour, US, None) to 'hydrochar production, stdBSG_250C_1hr' (kg, US, None)>\n",
      "Exchange: 2.944869962466106 kilowatt hour 'market group for electricity, low voltage' (kilowatt hour, US, None) to 'hydrochar production, stdBSG_250C_1hr' (kg, US, None)>\n",
      "Exchange: -0.09521741729206844 kg 'Carbon dioxide, non-fossil' (kg, None, None) to 'hydrochar production, stdBSG_250C_1hr' (kg, US, None)>\n",
      "Exchange: -0.008793528223363769 cubic meter 'treatment of wastewater, average, wastewater treatment' (cubic meter, RoW, None) to 'hydrochar production, stdBSG_250C_1hr' (kg, US, None)>\n",
      "Exchange: 28.815 kilowatt hour 'market group for electricity, low voltage' (kilowatt hour, US, None) to 'hydrochar production, stdBSG_250C_1hr' (kg, US, None)>\n",
      "\n",
      "'hydrochar production, stdSRU_220C_1hr' (kg, US, None)\n",
      "Exchange: 1.1854142947490336 kilogram 'market for water, completely softened' (kilogram, US, None) to 'hydrochar production, stdSRU_220C_1hr' (kg, US, None)>\n",
      "Exchange: 0.047720945479299004 kilowatt hour 'market group for electricity, low voltage' (kilowatt hour, US, None) to 'hydrochar production, stdSRU_220C_1hr' (kg, US, None)>\n",
      "Exchange: 2.0065422780511994 kilowatt hour 'market group for electricity, low voltage' (kilowatt hour, US, None) to 'hydrochar production, stdSRU_220C_1hr' (kg, US, None)>\n",
      "Exchange: -0.025540593899685816 kg 'Carbon dioxide, non-fossil, resource correction' (kg, None, None) to 'hydrochar production, stdSRU_220C_1hr' (kg, US, None)>\n",
      "Exchange: -0.0038863360031058023 cubic meter 'treatment of wastewater, average, wastewater treatment' (cubic meter, RoW, None) to 'hydrochar production, stdSRU_220C_1hr' (kg, US, None)>\n",
      "Exchange: 28.815 kilowatt hour 'market group for electricity, low voltage' (kilowatt hour, US, None) to 'hydrochar production, stdSRU_220C_1hr' (kg, US, None)>\n",
      "\n",
      "'hydrochar production, stdBSG_190C_3hr' (kg, US, None)\n",
      "Exchange: 2.8039252446289007 kilogram 'market for water, completely softened' (kilogram, US, None) to 'hydrochar production, stdBSG_190C_3hr' (kg, US, None)>\n",
      "Exchange: 0.11617570256069533 kilowatt hour 'market group for electricity, low voltage' (kilowatt hour, US, None) to 'hydrochar production, stdBSG_190C_3hr' (kg, US, None)>\n",
      "Exchange: 4.272622283693647 kilowatt hour 'market group for electricity, low voltage' (kilowatt hour, US, None) to 'hydrochar production, stdBSG_190C_3hr' (kg, US, None)>\n",
      "Exchange: -0.047953443119271605 kg 'Carbon dioxide, non-fossil' (kg, None, None) to 'hydrochar production, stdBSG_190C_3hr' (kg, US, None)>\n",
      "Exchange: -0.007606046610625158 cubic meter 'treatment of wastewater, average, wastewater treatment' (cubic meter, RoW, None) to 'hydrochar production, stdBSG_190C_3hr' (kg, US, None)>\n",
      "Exchange: 28.815 kilowatt hour 'market group for electricity, low voltage' (kilowatt hour, US, None) to 'hydrochar production, stdBSG_190C_3hr' (kg, US, None)>\n",
      "\n",
      "'hydrochar production, stdSRU_190C_3hr' (kg, US, None)\n",
      "Exchange: 1.2413443205572885 kilogram 'market for water, completely softened' (kilogram, US, None) to 'hydrochar production, stdSRU_190C_3hr' (kg, US, None)>\n",
      "Exchange: 0.1116802249166801 kilowatt hour 'market group for electricity, low voltage' (kilowatt hour, US, None) to 'hydrochar production, stdSRU_190C_3hr' (kg, US, None)>\n",
      "Exchange: 3.9700552622566088 kilowatt hour 'market group for electricity, low voltage' (kilowatt hour, US, None) to 'hydrochar production, stdSRU_190C_3hr' (kg, US, None)>\n",
      "Exchange: -0.019413962826294342 kg 'Carbon dioxide, non-fossil, resource correction' (kg, None, None) to 'hydrochar production, stdSRU_190C_3hr' (kg, US, None)>\n",
      "Exchange: -0.004124214002501982 cubic meter 'treatment of wastewater, average, wastewater treatment' (cubic meter, RoW, None) to 'hydrochar production, stdSRU_190C_3hr' (kg, US, None)>\n",
      "Exchange: 28.815 kilowatt hour 'market group for electricity, low voltage' (kilowatt hour, US, None) to 'hydrochar production, stdSRU_190C_3hr' (kg, US, None)>\n",
      "\n",
      "'hydrochar production, rawDCW_250C_1hr' (kg, US, None)\n",
      "Exchange: 0.0 kilogram 'market for water, completely softened' (kilogram, US, None) to 'hydrochar production, rawDCW_250C_1hr' (kg, US, None)>\n",
      "Exchange: 0.48273112707202087 kilowatt hour 'market group for electricity, low voltage' (kilowatt hour, US, None) to 'hydrochar production, rawDCW_250C_1hr' (kg, US, None)>\n",
      "Exchange: 16.071618959712737 kilowatt hour 'market group for electricity, low voltage' (kilowatt hour, US, None) to 'hydrochar production, rawDCW_250C_1hr' (kg, US, None)>\n",
      "Exchange: -0.2705613293834494 kg 'Carbon dioxide, non-fossil' (kg, None, None) to 'hydrochar production, rawDCW_250C_1hr' (kg, US, None)>\n",
      "Exchange: -0.05427224973768546 cubic meter 'treatment of wastewater, average, wastewater treatment' (cubic meter, RoW, None) to 'hydrochar production, rawDCW_250C_1hr' (kg, US, None)>\n",
      "Exchange: 28.815 kilowatt hour 'market group for electricity, low voltage' (kilowatt hour, US, None) to 'hydrochar production, rawDCW_250C_1hr' (kg, US, None)>\n",
      "\n",
      "'hydrochar production, stdSRU_190C_1hr' (kg, US, None)\n",
      "Exchange: 1.4013095047525619 kilogram 'market for water, completely softened' (kilogram, US, None) to 'hydrochar production, stdSRU_190C_1hr' (kg, US, None)>\n",
      "Exchange: 0.04770949807419546 kilowatt hour 'market group for electricity, low voltage' (kilowatt hour, US, None) to 'hydrochar production, stdSRU_190C_1hr' (kg, US, None)>\n",
      "Exchange: 1.802243989661737 kilowatt hour 'market group for electricity, low voltage' (kilowatt hour, US, None) to 'hydrochar production, stdSRU_190C_1hr' (kg, US, None)>\n",
      "Exchange: -0.013643627895201066 kg 'Carbon dioxide, non-fossil' (kg, None, None) to 'hydrochar production, stdSRU_190C_1hr' (kg, US, None)>\n",
      "Exchange: -0.004792815254914784 cubic meter 'treatment of wastewater, average, wastewater treatment' (cubic meter, RoW, None) to 'hydrochar production, stdSRU_190C_1hr' (kg, US, None)>\n",
      "Exchange: 28.815 kilowatt hour 'market group for electricity, low voltage' (kilowatt hour, US, None) to 'hydrochar production, stdSRU_190C_1hr' (kg, US, None)>\n",
      "\n",
      "'hydrochar production, stdBSG_190C_1hr' (kg, US, None)\n",
      "Exchange: 3.5811632604478727 kilogram 'market for water, completely softened' (kilogram, US, None) to 'hydrochar production, stdBSG_190C_1hr' (kg, US, None)>\n",
      "Exchange: 0.05707773909465434 kilowatt hour 'market group for electricity, low voltage' (kilowatt hour, US, None) to 'hydrochar production, stdBSG_190C_1hr' (kg, US, None)>\n",
      "Exchange: 2.2779740642281054 kilowatt hour 'market group for electricity, low voltage' (kilowatt hour, US, None) to 'hydrochar production, stdBSG_190C_1hr' (kg, US, None)>\n",
      "Exchange: -0.0364460144504794 kg 'Carbon dioxide, non-fossil, resource correction' (kg, None, None) to 'hydrochar production, stdBSG_190C_1hr' (kg, US, None)>\n",
      "Exchange: -0.010016411798984264 cubic meter 'treatment of wastewater, average, wastewater treatment' (cubic meter, RoW, None) to 'hydrochar production, stdBSG_190C_1hr' (kg, US, None)>\n",
      "Exchange: 28.815 kilowatt hour 'market group for electricity, low voltage' (kilowatt hour, US, None) to 'hydrochar production, stdBSG_190C_1hr' (kg, US, None)>\n",
      "\n",
      "'hydrochar production, stdBSG_220C_1hr' (kg, US, None)\n",
      "Exchange: 2.939076532739481 kilogram 'market for water, completely softened' (kilogram, US, None) to 'hydrochar production, stdBSG_220C_1hr' (kg, US, None)>\n",
      "Exchange: 0.05634078737912236 kilowatt hour 'market group for electricity, low voltage' (kilowatt hour, US, None) to 'hydrochar production, stdBSG_220C_1hr' (kg, US, None)>\n",
      "Exchange: 2.4474660721699553 kilowatt hour 'market group for electricity, low voltage' (kilowatt hour, US, None) to 'hydrochar production, stdBSG_220C_1hr' (kg, US, None)>\n",
      "Exchange: -0.06700675649547974 kg 'Carbon dioxide, non-fossil, resource correction' (kg, None, None) to 'hydrochar production, stdBSG_220C_1hr' (kg, US, None)>\n",
      "Exchange: -0.008004122554461866 cubic meter 'treatment of wastewater, average, wastewater treatment' (cubic meter, RoW, None) to 'hydrochar production, stdBSG_220C_1hr' (kg, US, None)>\n",
      "Exchange: 28.815 kilowatt hour 'market group for electricity, low voltage' (kilowatt hour, US, None) to 'hydrochar production, stdBSG_220C_1hr' (kg, US, None)>\n",
      "\n",
      "'hydrochar production, rawDCW_250C_3hr' (kg, US, None)\n",
      "Exchange: 0.0 kilogram 'market for water, completely softened' (kilogram, US, None) to 'hydrochar production, rawDCW_250C_3hr' (kg, US, None)>\n",
      "Exchange: 0.5517320599213396 kilowatt hour 'market group for electricity, low voltage' (kilowatt hour, US, None) to 'hydrochar production, rawDCW_250C_3hr' (kg, US, None)>\n",
      "Exchange: 18.429392932309625 kilowatt hour 'market group for electricity, low voltage' (kilowatt hour, US, None) to 'hydrochar production, rawDCW_250C_3hr' (kg, US, None)>\n",
      "Exchange: -0.2777161922305209 kg 'Carbon dioxide, non-fossil, resource correction' (kg, None, None) to 'hydrochar production, rawDCW_250C_3hr' (kg, US, None)>\n",
      "Exchange: -0.05156263581954914 cubic meter 'treatment of wastewater, average, wastewater treatment' (cubic meter, RoW, None) to 'hydrochar production, rawDCW_250C_3hr' (kg, US, None)>\n",
      "Exchange: 28.815 kilowatt hour 'market group for electricity, low voltage' (kilowatt hour, US, None) to 'hydrochar production, rawDCW_250C_3hr' (kg, US, None)>\n",
      "\n",
      "'hydrochar production, stdBSG_220C_3hr' (kg, US, None)\n",
      "Exchange: 2.9523978862391664 kilogram 'market for water, completely softened' (kilogram, US, None) to 'hydrochar production, stdBSG_220C_3hr' (kg, US, None)>\n",
      "Exchange: 0.12093778613631977 kilowatt hour 'market group for electricity, low voltage' (kilowatt hour, US, None) to 'hydrochar production, stdBSG_220C_3hr' (kg, US, None)>\n",
      "Exchange: 5.1054824974774276 kilowatt hour 'market group for electricity, low voltage' (kilowatt hour, US, None) to 'hydrochar production, stdBSG_220C_3hr' (kg, US, None)>\n",
      "Exchange: -0.07933844198652908 kg 'Carbon dioxide, non-fossil, resource correction' (kg, None, None) to 'hydrochar production, stdBSG_220C_3hr' (kg, US, None)>\n",
      "Exchange: -0.008032905728977536 cubic meter 'treatment of wastewater, average, wastewater treatment' (cubic meter, RoW, None) to 'hydrochar production, stdBSG_220C_3hr' (kg, US, None)>\n",
      "Exchange: 28.815 kilowatt hour 'market group for electricity, low voltage' (kilowatt hour, US, None) to 'hydrochar production, stdBSG_220C_3hr' (kg, US, None)>\n",
      "\n",
      "'hydrochar production, stdSRU_220C_3hr' (kg, US, None)\n",
      "Exchange: 1.1468569726634246 kilogram 'market for water, completely softened' (kilogram, US, None) to 'hydrochar production, stdSRU_220C_3hr' (kg, US, None)>\n",
      "Exchange: 0.11290551957793539 kilowatt hour 'market group for electricity, low voltage' (kilowatt hour, US, None) to 'hydrochar production, stdSRU_220C_3hr' (kg, US, None)>\n",
      "Exchange: 4.6373573706747475 kilowatt hour 'market group for electricity, low voltage' (kilowatt hour, US, None) to 'hydrochar production, stdSRU_220C_3hr' (kg, US, None)>\n",
      "Exchange: -0.03368262290040564 kg 'Carbon dioxide, non-fossil' (kg, None, None) to 'hydrochar production, stdSRU_220C_3hr' (kg, US, None)>\n",
      "Exchange: -0.0037184280519001367 cubic meter 'treatment of wastewater, average, wastewater treatment' (cubic meter, RoW, None) to 'hydrochar production, stdSRU_220C_3hr' (kg, US, None)>\n",
      "Exchange: 28.815 kilowatt hour 'market group for electricity, low voltage' (kilowatt hour, US, None) to 'hydrochar production, stdSRU_220C_3hr' (kg, US, None)>\n",
      "\n",
      "'hydrochar production, rawDCW_220C_1hr' (kg, US, None)\n",
      "Exchange: 0.0 kilogram 'market for water, completely softened' (kilogram, US, None) to 'hydrochar production, rawDCW_220C_1hr' (kg, US, None)>\n",
      "Exchange: 0.42538973670885977 kilowatt hour 'market group for electricity, low voltage' (kilowatt hour, US, None) to 'hydrochar production, rawDCW_220C_1hr' (kg, US, None)>\n",
      "Exchange: 13.96029635717691 kilowatt hour 'market group for electricity, low voltage' (kilowatt hour, US, None) to 'hydrochar production, rawDCW_220C_1hr' (kg, US, None)>\n",
      "Exchange: -0.19500366054659704 kg 'Carbon dioxide, non-fossil' (kg, None, None) to 'hydrochar production, rawDCW_220C_1hr' (kg, US, None)>\n",
      "Exchange: -0.054420907018651904 cubic meter 'treatment of wastewater, average, wastewater treatment' (cubic meter, RoW, None) to 'hydrochar production, rawDCW_220C_1hr' (kg, US, None)>\n",
      "Exchange: 28.815 kilowatt hour 'market group for electricity, low voltage' (kilowatt hour, US, None) to 'hydrochar production, rawDCW_220C_1hr' (kg, US, None)>\n",
      "\n",
      "'hydrochar production, stdSRU_250C_3hr' (kg, US, None)\n",
      "Exchange: 1.1254961135958599 kilogram 'market for water, completely softened' (kilogram, US, None) to 'hydrochar production, stdSRU_250C_3hr' (kg, US, None)>\n",
      "Exchange: 0.11484758841001667 kilowatt hour 'market group for electricity, low voltage' (kilowatt hour, US, None) to 'hydrochar production, stdSRU_250C_3hr' (kg, US, None)>\n",
      "Exchange: 5.344440234799236 kilowatt hour 'market group for electricity, low voltage' (kilowatt hour, US, None) to 'hydrochar production, stdSRU_250C_3hr' (kg, US, None)>\n",
      "Exchange: -0.03175584261969031 kg 'Carbon dioxide, non-fossil, resource correction' (kg, None, None) to 'hydrochar production, stdSRU_250C_3hr' (kg, US, None)>\n",
      "Exchange: -0.003631844086013314 cubic meter 'treatment of wastewater, average, wastewater treatment' (cubic meter, RoW, None) to 'hydrochar production, stdSRU_250C_3hr' (kg, US, None)>\n",
      "Exchange: 28.815 kilowatt hour 'market group for electricity, low voltage' (kilowatt hour, US, None) to 'hydrochar production, stdSRU_250C_3hr' (kg, US, None)>\n",
      "\n",
      "'hydrochar production, stdBSG_250C_3hr' (kg, US, None)\n",
      "Exchange: 3.0457978703151456 kilogram 'market for water, completely softened' (kilogram, US, None) to 'hydrochar production, stdBSG_250C_3hr' (kg, US, None)>\n",
      "Exchange: 0.12559110371238166 kilowatt hour 'market group for electricity, low voltage' (kilowatt hour, US, None) to 'hydrochar production, stdBSG_250C_3hr' (kg, US, None)>\n",
      "Exchange: 5.940318650792458 kilowatt hour 'market group for electricity, low voltage' (kilowatt hour, US, None) to 'hydrochar production, stdBSG_250C_3hr' (kg, US, None)>\n",
      "Exchange: -0.10913249017518395 kg 'Carbon dioxide, non-fossil, resource correction' (kg, None, None) to 'hydrochar production, stdBSG_250C_3hr' (kg, US, None)>\n",
      "Exchange: -0.008291380231728878 cubic meter 'treatment of wastewater, average, wastewater treatment' (cubic meter, RoW, None) to 'hydrochar production, stdBSG_250C_3hr' (kg, US, None)>\n",
      "Exchange: 28.815 kilowatt hour 'market group for electricity, low voltage' (kilowatt hour, US, None) to 'hydrochar production, stdBSG_250C_3hr' (kg, US, None)>\n",
      "\n",
      "'hydrochar production, rawDCW_190C_1hr' (kg, US, None)\n",
      "Exchange: 0.0 kilogram 'market for water, completely softened' (kilogram, US, None) to 'hydrochar production, rawDCW_190C_1hr' (kg, US, None)>\n",
      "Exchange: 0.5254175586964392 kilowatt hour 'market group for electricity, low voltage' (kilowatt hour, US, None) to 'hydrochar production, rawDCW_190C_1hr' (kg, US, None)>\n",
      "Exchange: 17.080005283678084 kilowatt hour 'market group for electricity, low voltage' (kilowatt hour, US, None) to 'hydrochar production, rawDCW_190C_1hr' (kg, US, None)>\n",
      "Exchange: -0.12118516960108892 kg 'Carbon dioxide, non-fossil, resource correction' (kg, None, None) to 'hydrochar production, rawDCW_190C_1hr' (kg, US, None)>\n",
      "Exchange: -0.0816883782605723 cubic meter 'treatment of wastewater, average, wastewater treatment' (cubic meter, RoW, None) to 'hydrochar production, rawDCW_190C_1hr' (kg, US, None)>\n",
      "Exchange: 28.815 kilowatt hour 'market group for electricity, low voltage' (kilowatt hour, US, None) to 'hydrochar production, rawDCW_190C_1hr' (kg, US, None)>\n",
      "\n"
     ]
    }
   ],
   "source": [
    "# Cross Checking Exchanges \n",
    "for act in [act for act in eidb if 'hydrochar production' in act['name']]:\n",
    "    print(act)\n",
    "    for exc in act.exchanges():\n",
    "        print(exc)\n",
    "    print()"
   ]
  },
  {
   "cell_type": "markdown",
   "metadata": {},
   "source": [
    "### 2.3: Life Cycle Assessment"
   ]
  },
  {
   "cell_type": "code",
   "execution_count": 25,
   "metadata": {},
   "outputs": [
    {
     "data": {
      "text/plain": [
       "[('TRACI', 'human health', 'non-carcinogenics'),\n",
       " ('TRACI', 'human health', 'respiratory effects, average'),\n",
       " ('TRACI', 'human health', 'carcinogenics'),\n",
       " ('TRACI', 'environmental impact', 'eutrophication'),\n",
       " ('TRACI', 'environmental impact', 'global warming'),\n",
       " ('TRACI', 'environmental impact', 'ecotoxicity'),\n",
       " ('TRACI', 'environmental impact', 'photochemical oxidation'),\n",
       " ('TRACI', 'environmental impact', 'acidification'),\n",
       " ('TRACI', 'environmental impact', 'ozone depletion')]"
      ]
     },
     "execution_count": 25,
     "metadata": {},
     "output_type": "execute_result"
    }
   ],
   "source": [
    "[m for m in bw.methods if 'TRACI' in str(m)]"
   ]
  },
  {
   "cell_type": "code",
   "execution_count": 26,
   "metadata": {},
   "outputs": [],
   "source": [
    "method_key = [m for m in bw.methods if 'TRACI' in str(m) and 'global warming' in str(m)][0]\n",
    "activity = [act for act in eidb if 'hydrochar production' in act['name']][0]\n",
    "functional_unit = { activity:1e-3}"
   ]
  },
  {
   "cell_type": "code",
   "execution_count": 27,
   "metadata": {},
   "outputs": [],
   "source": [
    "lca = bw.LCA(functional_unit, method_key)"
   ]
  },
  {
   "cell_type": "code",
   "execution_count": 28,
   "metadata": {},
   "outputs": [],
   "source": [
    "lca.lci()\n",
    "lca.lcia()"
   ]
  },
  {
   "cell_type": "code",
   "execution_count": 29,
   "metadata": {},
   "outputs": [
    {
     "data": {
      "text/plain": [
       "{'hydrochar production, stdBSG_250C_3hr' (kg, US, None): 0.001}"
      ]
     },
     "execution_count": 29,
     "metadata": {},
     "output_type": "execute_result"
    }
   ],
   "source": [
    "lca.demand"
   ]
  },
  {
   "cell_type": "code",
   "execution_count": 30,
   "metadata": {},
   "outputs": [
    {
     "data": {
      "text/plain": [
       "('TRACI', 'environmental impact', 'global warming')"
      ]
     },
     "execution_count": 30,
     "metadata": {},
     "output_type": "execute_result"
    }
   ],
   "source": [
    "lca.method"
   ]
  },
  {
   "cell_type": "code",
   "execution_count": 31,
   "metadata": {},
   "outputs": [
    {
     "name": "stdout",
     "output_type": "stream",
     "text": [
      "The hydrochar production, stdBSG_250C_3hr process accounts for 0.016480 kg CO2-Eq.\n"
     ]
    }
   ],
   "source": [
    "print(\"The {} process accounts for {:f} {}.\".format(\n",
    "    list(functional_unit.keys())[0]['name'],\n",
    "    lca.score,\n",
    "    bw.methods.get(method_key).get('unit')\n",
    "    ))"
   ]
  },
  {
   "cell_type": "code",
   "execution_count": 32,
   "metadata": {},
   "outputs": [],
   "source": [
    "total_impact = lca.score"
   ]
  },
  {
   "cell_type": "code",
   "execution_count": 33,
   "metadata": {},
   "outputs": [
    {
     "data": {
      "text/plain": [
       "'hydrochar production, rawDCW_190C_3hr' (kg, US, None)"
      ]
     },
     "execution_count": 33,
     "metadata": {},
     "output_type": "execute_result"
    }
   ],
   "source": [
    "[act for act in eidb if 'hydrochar production' in act['name']][0]"
   ]
  },
  {
   "cell_type": "code",
   "execution_count": 34,
   "metadata": {},
   "outputs": [
    {
     "name": "stdout",
     "output_type": "stream",
     "text": [
      "'market for water, completely softened' (kilogram, US, None)\n",
      "'market group for electricity, low voltage' (kilowatt hour, US, None)\n",
      "'market group for electricity, low voltage' (kilowatt hour, US, None)\n",
      "'Carbon dioxide, non-fossil, resource correction' (kg, None, None)\n"
     ]
    },
    {
     "ename": "AllArraysEmpty",
     "evalue": "",
     "output_type": "error",
     "traceback": [
      "\u001b[0;31m---------------------------------------------------------------------------\u001b[0m",
      "\u001b[0;31mAllArraysEmpty\u001b[0m                            Traceback (most recent call last)",
      "\u001b[0;32m<ipython-input-34-f33bdad2c902>\u001b[0m in \u001b[0;36m<module>\u001b[0;34m\u001b[0m\n\u001b[1;32m      6\u001b[0m     \u001b[0;32mif\u001b[0m \u001b[0;34m'Carbon dioxide'\u001b[0m \u001b[0;32min\u001b[0m \u001b[0mstr\u001b[0m\u001b[0;34m(\u001b[0m\u001b[0mexc\u001b[0m\u001b[0;34m.\u001b[0m\u001b[0minput\u001b[0m\u001b[0;34m)\u001b[0m\u001b[0;34m:\u001b[0m\u001b[0;34m\u001b[0m\u001b[0;34m\u001b[0m\u001b[0m\n\u001b[1;32m      7\u001b[0m         \u001b[0;31m# pass\u001b[0m\u001b[0;34m\u001b[0m\u001b[0;34m\u001b[0m\u001b[0;34m\u001b[0m\u001b[0m\n\u001b[0;32m----> 8\u001b[0;31m         \u001b[0mtemp_lca\u001b[0m\u001b[0;34m.\u001b[0m\u001b[0mlci\u001b[0m\u001b[0;34m(\u001b[0m\u001b[0;34m)\u001b[0m\u001b[0;34m\u001b[0m\u001b[0;34m\u001b[0m\u001b[0m\n\u001b[0m\u001b[1;32m      9\u001b[0m         \u001b[0mtemp_lca\u001b[0m\u001b[0;34m.\u001b[0m\u001b[0mlcia\u001b[0m\u001b[0;34m(\u001b[0m\u001b[0;34m)\u001b[0m\u001b[0;34m\u001b[0m\u001b[0;34m\u001b[0m\u001b[0m\n\u001b[1;32m     10\u001b[0m     \u001b[0;32melse\u001b[0m\u001b[0;34m:\u001b[0m\u001b[0;34m\u001b[0m\u001b[0;34m\u001b[0m\u001b[0m\n",
      "\u001b[0;32m~/LCA/HTC-uncertainty/HTC-lab-exploratory/venv/lib64/python3.6/site-packages/bw2calc/lca.py\u001b[0m in \u001b[0;36mlci\u001b[0;34m(self, factorize, builder)\u001b[0m\n\u001b[1;32m    336\u001b[0m \u001b[0;34m\u001b[0m\u001b[0m\n\u001b[1;32m    337\u001b[0m         \"\"\"\n\u001b[0;32m--> 338\u001b[0;31m         \u001b[0mself\u001b[0m\u001b[0;34m.\u001b[0m\u001b[0mload_lci_data\u001b[0m\u001b[0;34m(\u001b[0m\u001b[0mbuilder\u001b[0m\u001b[0;34m=\u001b[0m\u001b[0mbuilder\u001b[0m\u001b[0;34m)\u001b[0m\u001b[0;34m\u001b[0m\u001b[0;34m\u001b[0m\u001b[0m\n\u001b[0m\u001b[1;32m    339\u001b[0m         \u001b[0mself\u001b[0m\u001b[0;34m.\u001b[0m\u001b[0mbuild_demand_array\u001b[0m\u001b[0;34m(\u001b[0m\u001b[0;34m)\u001b[0m\u001b[0;34m\u001b[0m\u001b[0;34m\u001b[0m\u001b[0m\n\u001b[1;32m    340\u001b[0m         \u001b[0;32mif\u001b[0m \u001b[0mfactorize\u001b[0m\u001b[0;34m:\u001b[0m\u001b[0;34m\u001b[0m\u001b[0;34m\u001b[0m\u001b[0m\n",
      "\u001b[0;32m~/LCA/HTC-uncertainty/HTC-lab-exploratory/venv/lib64/python3.6/site-packages/bw2calc/lca.py\u001b[0m in \u001b[0;36mload_lci_data\u001b[0;34m(self, fix_dictionaries, builder)\u001b[0m\n\u001b[1;32m    215\u001b[0m             \u001b[0mself\u001b[0m\u001b[0;34m.\u001b[0m\u001b[0mproduct_dict\u001b[0m\u001b[0;34m,\u001b[0m \u001b[0mself\u001b[0m\u001b[0;34m.\u001b[0m\u001b[0mbiosphere_matrix\u001b[0m\u001b[0;34m,\u001b[0m\u001b[0;31m \u001b[0m\u001b[0;31m\\\u001b[0m\u001b[0;34m\u001b[0m\u001b[0;34m\u001b[0m\u001b[0m\n\u001b[1;32m    216\u001b[0m             \u001b[0mself\u001b[0m\u001b[0;34m.\u001b[0m\u001b[0mtechnosphere_matrix\u001b[0m \u001b[0;34m=\u001b[0m\u001b[0;31m \u001b[0m\u001b[0;31m\\\u001b[0m\u001b[0;34m\u001b[0m\u001b[0;34m\u001b[0m\u001b[0m\n\u001b[0;32m--> 217\u001b[0;31m             \u001b[0mbuilder\u001b[0m\u001b[0;34m.\u001b[0m\u001b[0mbuild\u001b[0m\u001b[0;34m(\u001b[0m\u001b[0mself\u001b[0m\u001b[0;34m.\u001b[0m\u001b[0mdatabase_filepath\u001b[0m\u001b[0;34m)\u001b[0m\u001b[0;34m\u001b[0m\u001b[0;34m\u001b[0m\u001b[0m\n\u001b[0m\u001b[1;32m    218\u001b[0m         \u001b[0;32mif\u001b[0m \u001b[0mlen\u001b[0m\u001b[0;34m(\u001b[0m\u001b[0mself\u001b[0m\u001b[0;34m.\u001b[0m\u001b[0mactivity_dict\u001b[0m\u001b[0;34m)\u001b[0m \u001b[0;34m!=\u001b[0m \u001b[0mlen\u001b[0m\u001b[0;34m(\u001b[0m\u001b[0mself\u001b[0m\u001b[0;34m.\u001b[0m\u001b[0mproduct_dict\u001b[0m\u001b[0;34m)\u001b[0m\u001b[0;34m:\u001b[0m\u001b[0;34m\u001b[0m\u001b[0;34m\u001b[0m\u001b[0m\n\u001b[1;32m    219\u001b[0m             raise NonsquareTechnosphere((\n",
      "\u001b[0;32m~/LCA/HTC-uncertainty/HTC-lab-exploratory/venv/lib64/python3.6/site-packages/bw2calc/matrices.py\u001b[0m in \u001b[0;36mbuild\u001b[0;34m(cls, paths)\u001b[0m\n\u001b[1;32m    141\u001b[0m         \u001b[0;34m\"\"\"Build the technosphere and biosphere sparse matrices.\"\"\"\u001b[0m\u001b[0;34m\u001b[0m\u001b[0;34m\u001b[0m\u001b[0m\n\u001b[1;32m    142\u001b[0m         \u001b[0;32massert\u001b[0m \u001b[0misinstance\u001b[0m\u001b[0;34m(\u001b[0m\u001b[0mpaths\u001b[0m\u001b[0;34m,\u001b[0m \u001b[0;34m(\u001b[0m\u001b[0mtuple\u001b[0m\u001b[0;34m,\u001b[0m \u001b[0mlist\u001b[0m\u001b[0;34m,\u001b[0m \u001b[0mset\u001b[0m\u001b[0;34m)\u001b[0m\u001b[0;34m)\u001b[0m\u001b[0;34m,\u001b[0m \u001b[0;34m\"paths must be a list\"\u001b[0m\u001b[0;34m\u001b[0m\u001b[0;34m\u001b[0m\u001b[0m\n\u001b[0;32m--> 143\u001b[0;31m         \u001b[0marray\u001b[0m \u001b[0;34m=\u001b[0m \u001b[0mload_arrays\u001b[0m\u001b[0;34m(\u001b[0m\u001b[0mpaths\u001b[0m\u001b[0;34m)\u001b[0m\u001b[0;34m\u001b[0m\u001b[0;34m\u001b[0m\u001b[0m\n\u001b[0m\u001b[1;32m    144\u001b[0m         \u001b[0;31m# take ~10 times faster than fancy indexing\u001b[0m\u001b[0;34m\u001b[0m\u001b[0;34m\u001b[0m\u001b[0;34m\u001b[0m\u001b[0m\n\u001b[1;32m    145\u001b[0m         \u001b[0;31m# http://wesmckinney.com/blog/?p=215\u001b[0m\u001b[0;34m\u001b[0m\u001b[0;34m\u001b[0m\u001b[0;34m\u001b[0m\u001b[0m\n",
      "\u001b[0;32m~/LCA/HTC-uncertainty/HTC-lab-exploratory/venv/lib64/python3.6/site-packages/bw2calc/utils.py\u001b[0m in \u001b[0;36mload_arrays\u001b[0;34m(objs)\u001b[0m\n\u001b[1;32m     39\u001b[0m \u001b[0;34m\u001b[0m\u001b[0m\n\u001b[1;32m     40\u001b[0m     \u001b[0;32mif\u001b[0m \u001b[0mall\u001b[0m\u001b[0;34m(\u001b[0m\u001b[0marr\u001b[0m\u001b[0;34m.\u001b[0m\u001b[0mshape\u001b[0m\u001b[0;34m[\u001b[0m\u001b[0;36m0\u001b[0m\u001b[0;34m]\u001b[0m \u001b[0;34m==\u001b[0m \u001b[0;36m0\u001b[0m \u001b[0;32mfor\u001b[0m \u001b[0marr\u001b[0m \u001b[0;32min\u001b[0m \u001b[0marrays\u001b[0m\u001b[0;34m)\u001b[0m\u001b[0;34m:\u001b[0m\u001b[0;34m\u001b[0m\u001b[0;34m\u001b[0m\u001b[0m\n\u001b[0;32m---> 41\u001b[0;31m         \u001b[0;32mraise\u001b[0m \u001b[0mAllArraysEmpty\u001b[0m\u001b[0;34m\u001b[0m\u001b[0;34m\u001b[0m\u001b[0m\n\u001b[0m\u001b[1;32m     42\u001b[0m \u001b[0;34m\u001b[0m\u001b[0m\n\u001b[1;32m     43\u001b[0m     \u001b[0;32mreturn\u001b[0m \u001b[0mnp\u001b[0m\u001b[0;34m.\u001b[0m\u001b[0mhstack\u001b[0m\u001b[0;34m(\u001b[0m\u001b[0marrays\u001b[0m\u001b[0;34m)\u001b[0m\u001b[0;34m\u001b[0m\u001b[0;34m\u001b[0m\u001b[0m\n",
      "\u001b[0;31mAllArraysEmpty\u001b[0m: "
     ]
    }
   ],
   "source": [
    "exchange_contributions = []\n",
    "for exc in activity.exchanges():\n",
    "    # Create a temporary LCA object for each exchange\n",
    "    temp_lca = bw.LCA({exc.input: exc['amount']}, method_key)\n",
    "    print(exc.input)\n",
    "    if 'Carbon dioxide' in str(exc.input): \n",
    "        # pass\n",
    "        temp_lca.lci()\n",
    "        temp_lca.lcia()\n",
    "    else: \n",
    "        temp_lca.lci()\n",
    "        temp_lca.lcia()\n",
    "        \n",
    "        # Calculate the contribution of this exchange\n",
    "        contribution = temp_lca.score\n",
    "        \n",
    "        # Store the result\n",
    "        exchange_contributions.append({\n",
    "            'exchange': exc,\n",
    "            'contribution': contribution,\n",
    "            'percentage': (contribution * 0.001 / total_impact) * 100\n",
    "        })\n",
    "\n",
    "# Print the results\n",
    "for result in exchange_contributions:\n",
    "    print(f\"Exchange: {result['exchange']}\")\n",
    "    print(f\"Contribution: {result['contribution']:.4f}\")\n",
    "    print(f\"Percentage of total impact: {result['percentage']:.2f}%\")\n",
    "    print('-' * 40)"
   ]
  },
  {
   "cell_type": "code",
   "execution_count": 68,
   "metadata": {},
   "outputs": [
    {
     "name": "stdout",
     "output_type": "stream",
     "text": [
      "{}\n",
      "{}\n"
     ]
    }
   ],
   "source": [
    "# Print the results to see if the flow you are looking for is present\n",
    "for flow in [flow for flow in biosphere if 'carbon dioxide, non-fossil' in flow['name'].lower()]:\n",
    "    print(flow.biosphere.__dict__)\n",
    "    \n",
    "    # print(flow.lca())\n",
    "    # test_lca = bw.LCA({flow:1}, method_key)\n",
    "    # test_lca.lci()\n",
    "    # test_lca.lcia()\n",
    "    \n",
    "    # print(flow['name'], '-', flow['categories'])\n",
    "    "
   ]
  }
 ],
 "metadata": {
  "kernelspec": {
   "display_name": "venv",
   "language": "python",
   "name": "python3"
  },
  "language_info": {
   "codemirror_mode": {
    "name": "ipython",
    "version": 3
   },
   "file_extension": ".py",
   "mimetype": "text/x-python",
   "name": "python",
   "nbconvert_exporter": "python",
   "pygments_lexer": "ipython3",
   "version": "3.6.8"
  }
 },
 "nbformat": 4,
 "nbformat_minor": 2
}
