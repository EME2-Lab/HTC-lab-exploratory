{
 "cells": [
  {
   "cell_type": "markdown",
   "metadata": {},
   "source": [
    "# Laboratory LCA of Hydrothermal Carbonization  \n",
    "This Jupyter notebook is for conducting an explaratory life cycle accessment (LCA) analysis to identify areas of sensitivity and further determine the optimal conditions for upscaling hydrothermal carbonization (HTC) under deep uncertainty. This notebook is organized in three sections: \n",
    "1) Project Setup: Importing main packages & ecoinvent databases \n",
    "2) Baseline LCA Model: Developing a baseline LCA model for evaluating environmental impacts, in the form of carbon,  for basic scenarios. \n",
    "3) Uncertainty Analysis: Performing a Monte Carlo simulation as a method of exploring optimal conditions for HTC to consider upon upscaling & futrue decision making, in consideration of lab-scale data uncertainty, utilizing a deterministic model.  \n",
    "\n",
    "This notebook serves as a supplementary analysis to ____"
   ]
  },
  {
   "cell_type": "markdown",
   "metadata": {},
   "source": [
    "## 1: Project Setup\n",
    "Installing required packages, setting up projects, and importing ecoinvent databases. Be sure to activate the virtual environment and install requirements.txt.  "
   ]
  },
  {
   "cell_type": "code",
   "execution_count": 1,
   "metadata": {},
   "outputs": [],
   "source": [
    "# Installing main packages\n",
    "import os\n",
    "import matplotlib.pyplot as plt\n",
    "import numpy as np\n",
    "import pandas as pd"
   ]
  },
  {
   "cell_type": "code",
   "execution_count": 2,
   "metadata": {},
   "outputs": [],
   "source": [
    "# Importing BW2 packages\n",
    "import brightway2 as bw\n",
    "from bw2data.parameters import ProjectParameter, ParameterManager, ActivityParameter"
   ]
  },
  {
   "cell_type": "code",
   "execution_count": 3,
   "metadata": {},
   "outputs": [],
   "source": [
    "# Import BW25 packages. \n",
    "import bw2data as bd\n",
    "import bw2io as bi\n",
    "import bw2calc as bc\n",
    "import bw2analyzer as bwa"
   ]
  },
  {
   "cell_type": "code",
   "execution_count": 4,
   "metadata": {},
   "outputs": [],
   "source": [
    "# Creating a new project: HTC-uncertainty \n",
    "bd.projects.set_current('HTC-uncertainty')"
   ]
  },
  {
   "cell_type": "code",
   "execution_count": 5,
   "metadata": {},
   "outputs": [
    {
     "name": "stdout",
     "output_type": "stream",
     "text": [
      "Creating default biosphere\n",
      "\n",
      "Applying strategy: normalize_units\n",
      "Applying strategy: drop_unspecified_subcategories\n",
      "Applying strategy: ensure_categories_are_tuples\n",
      "Applied 3 strategies in 0.00 seconds\n"
     ]
    },
    {
     "name": "stderr",
     "output_type": "stream",
     "text": [
      "100%|██████████| 4709/4709 [00:00<00:00, 11454.52it/s]\n"
     ]
    },
    {
     "name": "stdout",
     "output_type": "stream",
     "text": [
      "Vacuuming database \n",
      "Created database: biosphere3\n",
      "Creating default LCIA methods\n",
      "\n",
      "Wrote 762 LCIA methods with 227223 characterization factors\n",
      "Creating core data migrations\n",
      "\n"
     ]
    }
   ],
   "source": [
    "# Installing biosphere flows \n",
    "bi.bw2setup()"
   ]
  },
  {
   "cell_type": "code",
   "execution_count": 11,
   "metadata": {},
   "outputs": [],
   "source": [
    "# Getting main folder with ecoinvent files. Replace this with your own directory.  \n",
    "def get_ecoinvent_directory(): \n",
    "    return \"../../ecoinvent_v3.10\""
   ]
  },
  {
   "cell_type": "code",
   "execution_count": 7,
   "metadata": {},
   "outputs": [],
   "source": [
    "def write_data(ei_path, ei_name): \n",
    "    if ei_name in bd.databases:\n",
    "        print(\"Database has already been imported.\")\n",
    "    else:\n",
    "        ei_importer = bi.SingleOutputEcospold2Importer(ei_path, ei_name, use_mp = False)\n",
    "        # Should you have a problem with \"unlinked exchanges\"\n",
    "        try: \n",
    "            ei_importer.add_unlinked_flows_to_biosphere_database() \n",
    "        except Exception as e:\n",
    "            print(f\"An error occurred: {e}\")\n",
    "        ei_importer.apply_strategies()\n",
    "        ei_importer.statistics()\n",
    "        ei_importer.write_database()\n",
    "        print(str(ei_name) + \" database is completed!\")"
   ]
  },
  {
   "cell_type": "code",
   "execution_count": 8,
   "metadata": {},
   "outputs": [],
   "source": [
    "def create_databases():\n",
    "    for folder in os.listdir(get_ecoinvent_directory()):\n",
    "        folder_path = os.path.join(get_ecoinvent_directory(), folder + \"/datasets\")\n",
    "        # Only using cutoff for this analysis \n",
    "        if os.path.isdir(folder_path) and 'cutoff' in folder:\n",
    "            write_data(folder_path, folder_path.split('\\\\')[-1])\n",
    "    print(bd.databases)"
   ]
  },
  {
   "cell_type": "code",
   "execution_count": 12,
   "metadata": {},
   "outputs": [
    {
     "name": "stderr",
     "output_type": "stream",
     "text": [
      "100%|██████████| 23523/23523 [18:19<00:00, 21.40it/s] \n"
     ]
    },
    {
     "name": "stdout",
     "output_type": "stream",
     "text": [
      "Extracted 23523 datasets in 1104.73 seconds\n"
     ]
    },
    {
     "name": "stderr",
     "output_type": "stream",
     "text": [
      "100%|██████████| 5769/5769 [00:00<00:00, 9935.22it/s] \n"
     ]
    },
    {
     "name": "stdout",
     "output_type": "stream",
     "text": [
      "Vacuuming database \n",
      "Applying strategy: link_iterable_by_fields\n",
      "Applying strategy: normalize_units\n",
      "Applying strategy: update_ecoinvent_locations\n",
      "Applying strategy: remove_zero_amount_coproducts\n",
      "Applying strategy: remove_zero_amount_inputs_with_no_activity\n",
      "Applying strategy: remove_unnamed_parameters\n",
      "Applying strategy: es2_assign_only_product_with_amount_as_reference_product\n",
      "Applying strategy: assign_single_product_as_activity\n",
      "Applying strategy: create_composite_code\n",
      "Applying strategy: drop_unspecified_subcategories\n",
      "Applying strategy: fix_ecoinvent_flows_pre35\n",
      "Applying strategy: drop_temporary_outdated_biosphere_flows\n",
      "Applying strategy: link_biosphere_by_flow_uuid\n",
      "Applying strategy: link_internal_technosphere_by_composite_code\n",
      "Applying strategy: delete_exchanges_missing_activity\n",
      "Applying strategy: delete_ghost_exchanges\n",
      "Applying strategy: remove_uncertainty_from_negative_loss_exchanges\n",
      "Applying strategy: fix_unreasonably_high_lognormal_uncertainties\n",
      "Applying strategy: convert_activity_parameters_to_list\n",
      "Applying strategy: add_cpc_classification_from_single_reference_product\n",
      "Applying strategy: delete_none_synonyms\n",
      "Applying strategy: update_social_flows_in_older_consequential\n",
      "Applying strategy: set_lognormal_loc_value\n",
      "Applied 22 strategies in 16.43 seconds\n",
      "23523 datasets\n",
      "743409 exchanges\n",
      "0 unlinked exchanges\n",
      "  \n",
      "Not able to determine geocollections for all datasets. This database is not ready for regionalization.\n"
     ]
    },
    {
     "name": "stderr",
     "output_type": "stream",
     "text": [
      "100%|██████████| 23523/23523 [03:36<00:00, 108.79it/s]\n"
     ]
    },
    {
     "name": "stdout",
     "output_type": "stream",
     "text": [
      "Vacuuming database \n",
      "Created database: cutoff/datasets\n",
      "cutoff/datasets database is completed!\n",
      "Databases dictionary with 2 object(s):\n",
      "\tbiosphere3\n",
      "\tcutoff/datasets\n"
     ]
    }
   ],
   "source": [
    "create_databases()"
   ]
  },
  {
   "cell_type": "code",
   "execution_count": 13,
   "metadata": {},
   "outputs": [
    {
     "data": {
      "text/plain": [
       "Databases dictionary with 2 object(s):\n",
       "\tbiosphere3\n",
       "\tcutoff/datasets"
      ]
     },
     "execution_count": 13,
     "metadata": {},
     "output_type": "execute_result"
    }
   ],
   "source": [
    "# Ensuring cutoff database has been imported correctly\n",
    "bd.databases"
   ]
  },
  {
   "cell_type": "code",
   "execution_count": 14,
   "metadata": {},
   "outputs": [],
   "source": [
    "# Creating database reference to not override or intefere with cutoff model: \n",
    "eidb = bd.Database(\"cutoff/datasets\")"
   ]
  },
  {
   "cell_type": "code",
   "execution_count": 15,
   "metadata": {},
   "outputs": [],
   "source": [
    "# Creating database reference to not override or intefere with the biosphere model: \n",
    "biosphere3 = bw.Database('biosphere3')"
   ]
  },
  {
   "cell_type": "code",
   "execution_count": 16,
   "metadata": {},
   "outputs": [
    {
     "name": "stdout",
     "output_type": "stream",
     "text": [
      "The imported ecoinvent database is of type <class 'bw2data.backends.base.SQLiteBackend'> and has a length of 23523.\n"
     ]
    }
   ],
   "source": [
    "# Checking for proper replication: \n",
    "print(\"The imported ecoinvent database is of type {} and has a length of {}.\".format(type(eidb), len(eidb)))"
   ]
  },
  {
   "cell_type": "code",
   "execution_count": 17,
   "metadata": {},
   "outputs": [
    {
     "name": "stdout",
     "output_type": "stream",
     "text": [
      "The biosphere database is of type <class 'bw2data.backends.base.SQLiteBackend'> and has a length of 5769.\n"
     ]
    }
   ],
   "source": [
    "# Checking for proper replication of biosphere database \n",
    "print(\"The biosphere database is of type {} and has a length of {}.\".format(type(biosphere3), len(biosphere3)))"
   ]
  },
  {
   "cell_type": "markdown",
   "metadata": {},
   "source": [
    "## 2: Baseline LCA\n",
    "Conducting a baseline LCA, as a foreground system for determining environmental impacts for main feedstocks based on numerical averages. The feedstocks of interest are as follows:  \n",
    " - SRU Feedstock with water to reach an 85% moisture content\n",
    " - BSG Feedstock with water to reach at 85% moisture content\n",
    " - DCW Feedstock (already above 85% moisture content; no additional water needed)"
   ]
  },
  {
   "cell_type": "markdown",
   "metadata": {},
   "source": [
    "### 2.1: Identifying Appropriate Flows\n",
    "All hydrothermal carbonization models have the following inputs: \n",
    "1) Feedstock: It will be assumed that the feedstock is a waste product and has no corresponding environmental impacts. The process of transporting food waste is not considered for this analysis.  \n",
    "2) Water: If needed, water is added to reach a moisture content. If not needed, water is 0. \n",
    "3) Electricity: Needed for stirring of an HTC reaction & for post-processing. \n",
    "4) Heat: Needed for the HTC reaction and post-processing steps. \n",
    "It will be assumed that the equipment itself has a long lifetime and any pre-processing for the equipment or environmental impacts for setting up or maintaining a system will not be explored in this analysis. \n",
    "\n",
    "Simultaneously, all hydrothermal carbonization models have the following outputs: \n",
    "1. Hydrochar (functional unit): The goal of this analysis is to determine the optimal method for producing a solid hydrochar (HC).  \n",
    "2. Carbon Dioxde: Gas yields from HTC are assumed to be pure CO<sub>2</sub> are emitted to the atmosphere. \n",
    "3. Wastewater: Process Water from the HTC process that requires treatment at a wastewater treatment plant. "
   ]
  },
  {
   "cell_type": "code",
   "execution_count": 18,
   "metadata": {},
   "outputs": [
    {
     "name": "stdout",
     "output_type": "stream",
     "text": [
      "'market group for electricity, low voltage' (kilowatt hour, US, None)\n"
     ]
    }
   ],
   "source": [
    "# Searching for Electricity\n",
    "for act in [act for act in eidb if 'market group for electricity, low voltage' in act['name']  and 'US' in act['location']]:\n",
    "    print(act)"
   ]
  },
  {
   "cell_type": "code",
   "execution_count": 19,
   "metadata": {},
   "outputs": [
    {
     "name": "stdout",
     "output_type": "stream",
     "text": [
      "'market group for electricity, low voltage' (kilowatt hour, US, None)\n"
     ]
    }
   ],
   "source": [
    "# Assuming Heat uses the same source as electricity, based on Parr reactor specifications\n",
    "# https://www.parrinst.com/products/stirred-reactors/series-4520-1-2l-bench-top-reactors/specifications/\n",
    "\n",
    "for act in [act for act in eidb if 'market group for electricity, low voltage' in act['name']  and 'US' in act['location']]:\n",
    "    print(act)"
   ]
  },
  {
   "cell_type": "code",
   "execution_count": 20,
   "metadata": {},
   "outputs": [
    {
     "name": "stdout",
     "output_type": "stream",
     "text": [
      "'market for water, completely softened' (kilogram, US, None)\n"
     ]
    }
   ],
   "source": [
    "# Searching for Water \n",
    "for act in [act for act in eidb if 'market for water, completely softened' in act['name']  and 'US' in act['location']]:\n",
    "    print(act)"
   ]
  },
  {
   "cell_type": "code",
   "execution_count": 21,
   "metadata": {},
   "outputs": [
    {
     "name": "stdout",
     "output_type": "stream",
     "text": [
      "'treatment of wastewater, average, wastewater treatment' (cubic meter, RoW, None)\n"
     ]
    }
   ],
   "source": [
    "# Searching for Wastewater \n",
    "for act in [act for act in eidb if 'treatment of wastewater, average, wastewater treatment' in act['name']  and 'RoW' in act['location']]:\n",
    "    print(act)"
   ]
  },
  {
   "cell_type": "code",
   "execution_count": 23,
   "metadata": {},
   "outputs": [
    {
     "name": "stdout",
     "output_type": "stream",
     "text": [
      "'Carbon dioxide, non-fossil, resource correction' (kilogram, None, ('natural resource', 'in air'))\n",
      "'Carbon dioxide, non-fossil, resource correction' (kg, None, None)\n"
     ]
    }
   ],
   "source": [
    "# Searching for Carbon Dioxide Stream; in this case the second option is of interest.  \n",
    "for flow in [flow for flow in biosphere3 if 'carbon dioxide, non-fossil, resource correction' in flow['name'].lower()]:\n",
    "    print(flow)"
   ]
  },
  {
   "cell_type": "markdown",
   "metadata": {},
   "source": [
    "### 2.2: Setting Up Product System\n",
    "Creating product systems for main feedstocks"
   ]
  },
  {
   "cell_type": "code",
   "execution_count": 24,
   "metadata": {},
   "outputs": [],
   "source": [
    "from feedstock import Feedstock, FeedstockManager, create_elementary_feedstocks\n",
    "from model import get_feedstock_quantity, get_water_quantity, get_heat_needed, get_electricity_needed\n",
    "from model import  get_co2_emissions, get_pw, get_parameter, get_post_processing"
   ]
  },
  {
   "cell_type": "code",
   "execution_count": 25,
   "metadata": {},
   "outputs": [],
   "source": [
    "# If needed, delete existing parameters\n",
    "for item in ProjectParameter.select(): \n",
    "    item.delete()\n",
    "\n",
    "ProjectParameter.drop_table(safe=True, drop_sequences=True)\n",
    "# create a new empty table of project parameters\n",
    "ProjectParameter.create_table()\n",
    "\n",
    "for name in ProjectParameter.select():\n",
    "    name.print()"
   ]
  },
  {
   "cell_type": "code",
   "execution_count": 26,
   "metadata": {},
   "outputs": [],
   "source": [
    "# If needed, delete existing activities\n",
    "for act in [act for act in eidb if 'hydrochar production' in act['name']]:\n",
    "    act.delete()\n",
    "    \n",
    "for act in [act for act in eidb if 'hydrochar production' in act['name']]:\n",
    "    print(act)"
   ]
  },
  {
   "cell_type": "code",
   "execution_count": 27,
   "metadata": {},
   "outputs": [],
   "source": [
    "# Re initializing elementary feedstocks if needed\n",
    "elementary_feedstocks = create_elementary_feedstocks()"
   ]
  },
  {
   "cell_type": "code",
   "execution_count": 28,
   "metadata": {},
   "outputs": [
    {
     "name": "stdout",
     "output_type": "stream",
     "text": [
      "[{'name': 'feedstock_HTC_stdSRU_190C_1hr', 'amount': 4.405149378057423}, {'name': 'water_HTC_stdSRU_190C_1hr', 'amount': 1.4013095047525619}, {'name': 'heat_HTC_stdSRU_190C_1hr', 'amount': 1.802243989661737}, {'name': 'electricity_HTC_stdSRU_190C_1hr', 'amount': 0.04770949807419546}, {'name': 'co2_HTC_stdSRU_190C_1hr', 'amount': 0.013643627895201066}, {'name': 'wastewater_HTC_stdSRU_190C_1hr', 'amount': 4.792815254914784}, {'name': 'post_processing_HTC_stdSRU_190C_1hr', 'amount': 28.815}]\n",
      "\n",
      "[{'name': 'feedstock_HTC_stdSRU_190C_3hr', 'amount': 3.902283644770988}, {'name': 'water_HTC_stdSRU_190C_3hr', 'amount': 1.2413443205572885}, {'name': 'heat_HTC_stdSRU_190C_3hr', 'amount': 3.9700552622566088}, {'name': 'electricity_HTC_stdSRU_190C_3hr', 'amount': 0.1116802249166801}, {'name': 'co2_HTC_stdSRU_190C_3hr', 'amount': 0.019413962826294342}, {'name': 'wastewater_HTC_stdSRU_190C_3hr', 'amount': 4.124214002501982}, {'name': 'post_processing_HTC_stdSRU_190C_3hr', 'amount': 28.815}]\n",
      "\n",
      "[{'name': 'feedstock_HTC_stdSRU_220C_1hr', 'amount': 3.7264623022564547}, {'name': 'water_HTC_stdSRU_220C_1hr', 'amount': 1.1854142947490336}, {'name': 'heat_HTC_stdSRU_220C_1hr', 'amount': 2.0065422780511994}, {'name': 'electricity_HTC_stdSRU_220C_1hr', 'amount': 0.047720945479299004}, {'name': 'co2_HTC_stdSRU_220C_1hr', 'amount': 0.025540593899685816}, {'name': 'wastewater_HTC_stdSRU_220C_1hr', 'amount': 3.8863360031058023}, {'name': 'post_processing_HTC_stdSRU_220C_1hr', 'amount': 28.815}]\n",
      "\n",
      "[{'name': 'feedstock_HTC_stdSRU_220C_3hr', 'amount': 3.6052537021371176}, {'name': 'water_HTC_stdSRU_220C_3hr', 'amount': 1.1468569726634246}, {'name': 'heat_HTC_stdSRU_220C_3hr', 'amount': 4.6373573706747475}, {'name': 'electricity_HTC_stdSRU_220C_3hr', 'amount': 0.11290551957793539}, {'name': 'co2_HTC_stdSRU_220C_3hr', 'amount': 0.03368262290040564}, {'name': 'wastewater_HTC_stdSRU_220C_3hr', 'amount': 3.718428051900137}, {'name': 'post_processing_HTC_stdSRU_220C_3hr', 'amount': 28.815}]\n",
      "\n",
      "[{'name': 'feedstock_HTC_stdSRU_250C_1hr', 'amount': 3.773150479084847}, {'name': 'water_HTC_stdSRU_250C_1hr', 'amount': 1.200266137520832}, {'name': 'heat_HTC_stdSRU_250C_1hr', 'amount': 2.3288673894075758}, {'name': 'electricity_HTC_stdSRU_250C_1hr', 'amount': 0.05026461527593569}, {'name': 'co2_HTC_stdSRU_250C_1hr', 'amount': 0.03403719297614136}, {'name': 'wastewater_HTC_stdSRU_250C_1hr', 'amount': 3.9393794236295374}, {'name': 'post_processing_HTC_stdSRU_250C_1hr', 'amount': 28.815}]\n",
      "\n",
      "[{'name': 'feedstock_HTC_stdSRU_250C_3hr', 'amount': 3.538103815037144}, {'name': 'water_HTC_stdSRU_250C_3hr', 'amount': 1.1254961135958599}, {'name': 'heat_HTC_stdSRU_250C_3hr', 'amount': 5.344440234799236}, {'name': 'electricity_HTC_stdSRU_250C_3hr', 'amount': 0.11484758841001667}, {'name': 'co2_HTC_stdSRU_250C_3hr', 'amount': 0.03175584261969031}, {'name': 'wastewater_HTC_stdSRU_250C_3hr', 'amount': 3.631844086013314}, {'name': 'post_processing_HTC_stdSRU_250C_3hr', 'amount': 28.815}]\n",
      "\n",
      "[{'name': 'feedstock_HTC_rawDCW_190C_1hr', 'amount': 82.8095634301734}, {'name': 'water_HTC_rawDCW_190C_1hr', 'amount': 0.0}, {'name': 'heat_HTC_rawDCW_190C_1hr', 'amount': 17.080005283678084}, {'name': 'electricity_HTC_rawDCW_190C_1hr', 'amount': 0.5254175586964392}, {'name': 'co2_HTC_rawDCW_190C_1hr', 'amount': 0.12118516960108892}, {'name': 'wastewater_HTC_rawDCW_190C_1hr', 'amount': 81.6883782605723}, {'name': 'post_processing_HTC_rawDCW_190C_1hr', 'amount': 28.815}]\n",
      "\n",
      "[{'name': 'feedstock_HTC_rawDCW_190C_3hr', 'amount': 54.457026041605026}, {'name': 'water_HTC_rawDCW_190C_3hr', 'amount': 0.0}, {'name': 'heat_HTC_rawDCW_190C_3hr', 'amount': 13.861886998120793}, {'name': 'electricity_HTC_rawDCW_190C_3hr', 'amount': 0.4512728255547088}, {'name': 'co2_HTC_rawDCW_190C_3hr', 'amount': 0.14313988821754794}, {'name': 'wastewater_HTC_rawDCW_190C_3hr', 'amount': 53.31388615338748}, {'name': 'post_processing_HTC_rawDCW_190C_3hr', 'amount': 28.815}]\n",
      "\n",
      "[{'name': 'feedstock_HTC_rawDCW_220C_1hr', 'amount': 55.6159106791985}, {'name': 'water_HTC_rawDCW_220C_1hr', 'amount': 0.0}, {'name': 'heat_HTC_rawDCW_220C_1hr', 'amount': 13.96029635717691}, {'name': 'electricity_HTC_rawDCW_220C_1hr', 'amount': 0.42538973670885977}, {'name': 'co2_HTC_rawDCW_220C_1hr', 'amount': 0.19500366054659704}, {'name': 'wastewater_HTC_rawDCW_220C_1hr', 'amount': 54.4209070186519}, {'name': 'post_processing_HTC_rawDCW_220C_1hr', 'amount': 28.815}]\n",
      "\n",
      "[{'name': 'feedstock_HTC_rawDCW_220C_3hr', 'amount': 59.45016663689984}, {'name': 'water_HTC_rawDCW_220C_3hr', 'amount': 0.0}, {'name': 'heat_HTC_rawDCW_220C_3hr', 'amount': 17.48422960332}, {'name': 'electricity_HTC_rawDCW_220C_3hr', 'amount': 0.5418962231053955}, {'name': 'co2_HTC_rawDCW_220C_3hr', 'amount': 0.24211560373134813}, {'name': 'wastewater_HTC_rawDCW_220C_3hr', 'amount': 58.20805103316849}, {'name': 'post_processing_HTC_rawDCW_220C_3hr', 'amount': 28.815}]\n",
      "\n",
      "[{'name': 'feedstock_HTC_rawDCW_250C_1hr', 'amount': 55.54281106706891}, {'name': 'water_HTC_rawDCW_250C_1hr', 'amount': 0.0}, {'name': 'heat_HTC_rawDCW_250C_1hr', 'amount': 16.071618959712737}, {'name': 'electricity_HTC_rawDCW_250C_1hr', 'amount': 0.48273112707202087}, {'name': 'co2_HTC_rawDCW_250C_1hr', 'amount': 0.2705613293834494}, {'name': 'wastewater_HTC_rawDCW_250C_1hr', 'amount': 54.27224973768546}, {'name': 'post_processing_HTC_rawDCW_250C_1hr', 'amount': 28.815}]\n",
      "\n",
      "[{'name': 'feedstock_HTC_rawDCW_250C_3hr', 'amount': 52.84035201177966}, {'name': 'water_HTC_rawDCW_250C_3hr', 'amount': 0.0}, {'name': 'heat_HTC_rawDCW_250C_3hr', 'amount': 18.429392932309625}, {'name': 'electricity_HTC_rawDCW_250C_3hr', 'amount': 0.5517320599213396}, {'name': 'co2_HTC_rawDCW_250C_3hr', 'amount': 0.2777161922305209}, {'name': 'wastewater_HTC_rawDCW_250C_3hr', 'amount': 51.562635819549136}, {'name': 'post_processing_HTC_rawDCW_250C_3hr', 'amount': 28.815}]\n",
      "\n",
      "[{'name': 'feedstock_HTC_stdBSG_190C_1hr', 'amount': 7.47169455298687}, {'name': 'water_HTC_stdBSG_190C_1hr', 'amount': 3.5811632604478727}, {'name': 'heat_HTC_stdBSG_190C_1hr', 'amount': 2.2779740642281054}, {'name': 'electricity_HTC_stdBSG_190C_1hr', 'amount': 0.05707773909465434}, {'name': 'co2_HTC_stdBSG_190C_1hr', 'amount': 0.0364460144504794}, {'name': 'wastewater_HTC_stdBSG_190C_1hr', 'amount': 10.016411798984263}, {'name': 'post_processing_HTC_stdBSG_190C_1hr', 'amount': 28.815}]\n",
      "\n",
      "[{'name': 'feedstock_HTC_stdBSG_190C_3hr', 'amount': 5.8500748091155295}, {'name': 'water_HTC_stdBSG_190C_3hr', 'amount': 2.8039252446289007}, {'name': 'heat_HTC_stdBSG_190C_3hr', 'amount': 4.272622283693647}, {'name': 'electricity_HTC_stdBSG_190C_3hr', 'amount': 0.11617570256069533}, {'name': 'co2_HTC_stdBSG_190C_3hr', 'amount': 0.047953443119271605}, {'name': 'wastewater_HTC_stdBSG_190C_3hr', 'amount': 7.606046610625158}, {'name': 'post_processing_HTC_stdBSG_190C_3hr', 'amount': 28.815}]\n",
      "\n",
      "[{'name': 'feedstock_HTC_stdBSG_220C_1hr', 'amount': 6.132052778217863}, {'name': 'water_HTC_stdBSG_220C_1hr', 'amount': 2.939076532739481}, {'name': 'heat_HTC_stdBSG_220C_1hr', 'amount': 2.4474660721699553}, {'name': 'electricity_HTC_stdBSG_220C_1hr', 'amount': 0.05634078737912236}, {'name': 'co2_HTC_stdBSG_220C_1hr', 'amount': 0.06700675649547974}, {'name': 'wastewater_HTC_stdBSG_220C_1hr', 'amount': 8.004122554461865}, {'name': 'post_processing_HTC_stdBSG_220C_1hr', 'amount': 28.815}]\n",
      "\n",
      "[{'name': 'feedstock_HTC_stdBSG_220C_3hr', 'amount': 6.159846284724898}, {'name': 'water_HTC_stdBSG_220C_3hr', 'amount': 2.9523978862391664}, {'name': 'heat_HTC_stdBSG_220C_3hr', 'amount': 5.1054824974774276}, {'name': 'electricity_HTC_stdBSG_220C_3hr', 'amount': 0.12093778613631977}, {'name': 'co2_HTC_stdBSG_220C_3hr', 'amount': 0.07933844198652908}, {'name': 'wastewater_HTC_stdBSG_220C_3hr', 'amount': 8.032905728977536}, {'name': 'post_processing_HTC_stdBSG_220C_3hr', 'amount': 28.815}]\n",
      "\n",
      "[{'name': 'feedstock_HTC_stdBSG_250C_1hr', 'amount': 6.6847586557526215}, {'name': 'water_HTC_stdBSG_250C_1hr', 'amount': 3.203986984903217}, {'name': 'heat_HTC_stdBSG_250C_1hr', 'amount': 2.944869962466106}, {'name': 'electricity_HTC_stdBSG_250C_1hr', 'amount': 0.06260219185225777}, {'name': 'co2_HTC_stdBSG_250C_1hr', 'amount': 0.09521741729206844}, {'name': 'wastewater_HTC_stdBSG_250C_1hr', 'amount': 8.793528223363769}, {'name': 'post_processing_HTC_stdBSG_250C_1hr', 'amount': 28.815}]\n",
      "\n",
      "[{'name': 'feedstock_HTC_stdBSG_250C_3hr', 'amount': 6.354714851588917}, {'name': 'water_HTC_stdBSG_250C_3hr', 'amount': 3.0457978703151456}, {'name': 'heat_HTC_stdBSG_250C_3hr', 'amount': 5.940318650792458}, {'name': 'electricity_HTC_stdBSG_250C_3hr', 'amount': 0.12559110371238166}, {'name': 'co2_HTC_stdBSG_250C_3hr', 'amount': 0.10913249017518395}, {'name': 'wastewater_HTC_stdBSG_250C_3hr', 'amount': 8.291380231728878}, {'name': 'post_processing_HTC_stdBSG_250C_3hr', 'amount': 28.815}]\n",
      "\n"
     ]
    }
   ],
   "source": [
    "# Creating Activities for Different Feedstocks \n",
    "excluded_feedstocks = {\"rawSRU\", \"rawBSG\"}\n",
    "for attr, feedstocks in elementary_feedstocks.__dict__.items():\n",
    "    for feedstock in feedstocks:\n",
    "        if feedstock.name not in excluded_feedstocks:\n",
    "            # for temp in HTC_temp:\n",
    "            #     for time in HTC_reaction_time:\n",
    "            temp = feedstock.temp\n",
    "            time = feedstock.time \n",
    "            hydrochar_production = eidb.new_activity(\n",
    "                code=f'HTC_{feedstock.name}_{temp}C_{time}hr',\n",
    "                name=f\"hydrochar production, {feedstock.name}_{temp}C_{time}hr\",\n",
    "                location='US',\n",
    "                unit=\"kg\"\n",
    "            )\n",
    "            parameters = ParameterManager()\n",
    "            yield_HC = get_parameter(f\"hydrochar production, {feedstock.name}_{temp}C_{time}hr\", 'HC_yield')\n",
    "            gas_yield = get_parameter(f\"hydrochar production, {feedstock.name}_{temp}C_{time}hr\", 'gas_yield')\n",
    "            project_data = [\n",
    "                {\n",
    "                    'name': 'feedstock_' + f'HTC_{feedstock.name}_{temp}C_{time}hr', \n",
    "                    'amount': get_feedstock_quantity(yield_HC, feedstock)\n",
    "                }, \n",
    "                {\n",
    "                    'name': 'water_' + f'HTC_{feedstock.name}_{temp}C_{time}hr', \n",
    "                    'amount': get_water_quantity(yield_HC, feedstock)\n",
    "                }, \n",
    "                {\n",
    "                    'name': 'heat_' + f'HTC_{feedstock.name}_{temp}C_{time}hr', \n",
    "                    'amount': get_heat_needed(feedstock, temp, time)\n",
    "                },\n",
    "                {\n",
    "                    'name': 'electricity_' + f'HTC_{feedstock.name}_{temp}C_{time}hr', \n",
    "                    'amount': get_electricity_needed(feedstock, time, temp)\n",
    "                }, \n",
    "                {\n",
    "                    'name': 'co2_' + f'HTC_{feedstock.name}_{temp}C_{time}hr',\n",
    "                    'amount': get_co2_emissions(yield_HC, gas_yield, feedstock)\n",
    "                }, \n",
    "                {\n",
    "                    'name': 'wastewater_' + f'HTC_{feedstock.name}_{temp}C_{time}hr', \n",
    "                    'amount': get_pw(yield_HC, gas_yield, feedstock, hc_placeholder=1)\n",
    "                },\n",
    "                {\n",
    "                    'name': 'post_processing_' + f'HTC_{feedstock.name}_{temp}C_{time}hr', \n",
    "                    'amount': get_post_processing(hc_placeholder=1)\n",
    "                }\n",
    "            ]\n",
    "            \n",
    "            print(project_data)\n",
    "            parameters.new_project_parameters(project_data)\n",
    "            \n",
    "            # for param in ProjectParameter.select():\n",
    "            #     print(param, param.amount)\n",
    "            \n",
    "            # Feedstock \n",
    "            hydrochar_production.new_exchange(input=('biosphere3', 'feedstock'), amount=0, unit=\"kg\", type='custom', formula= 'feedstock')\n",
    "            hydrochar_production.save()\n",
    "                                \n",
    "            # Water \n",
    "            water = [act for act in eidb if 'market for water, completely softened' in act['name']  and 'US' in act['location']][0]\n",
    "            hydrochar_production.new_exchange(input=water.key, amount=0, unit=\"kilogram\", type='technosphere', \n",
    "                                                formula= 'water_' + f'HTC_{feedstock.name}_{temp}C_{time}hr').save()\n",
    "            hydrochar_production.save()\n",
    "            \n",
    "            # Electricity\n",
    "            electricity = [act for act in eidb if 'market group for electricity, low voltage' in act['name']  and 'US' in act['location']][0]\n",
    "            hydrochar_production.new_exchange(input=electricity.key, amount=0, unit=\"kilowatt hour\", type='technosphere', \n",
    "                                                formula='electricity_' + f'HTC_{feedstock.name}_{temp}C_{time}hr').save()\n",
    "            hydrochar_production.save()\n",
    "            \n",
    "            # Heat \n",
    "            electricity = [act for act in eidb if 'market group for electricity, low voltage' in act['name']  and 'US' in act['location']][0]\n",
    "            hydrochar_production.new_exchange(input=electricity.key, amount=0, unit=\"kilowatt hour\", type='technosphere', \n",
    "                                                formula='heat_' + f'HTC_{feedstock.name}_{temp}C_{time}hr').save()\n",
    "            hydrochar_production.save()\n",
    "            \n",
    "            # CO2 Emissions\n",
    "            co2 = [flow for flow in biosphere3 if 'carbon dioxide, non-fossil, resource correction' in flow['name'].lower()][1]\n",
    "            hydrochar_production.new_exchange(input=co2.key, amount=0, unit=\"kilogram\", type='biosphere', \n",
    "                                                formula='-1*co2_' + f'HTC_{feedstock.name}_{temp}C_{time}hr').save()\n",
    "            hydrochar_production.save()\n",
    "            \n",
    "            # Wastewater \n",
    "            wastewater = [act for act in eidb if 'treatment of wastewater, average, wastewater treatment' in act['name']  and 'RoW' in act['location']][0]\n",
    "            hydrochar_production.new_exchange(input=wastewater.key, amount=0, unit=\"cubic meter\", type='technosphere', \n",
    "                                                formula='-1*wastewater_' + f'HTC_{feedstock.name}_{temp}C_{time}hr/1000').save()\n",
    "            hydrochar_production.save()\n",
    "            \n",
    "            # Post-Processing\n",
    "            electricity = [act for act in eidb if 'market group for electricity, low voltage' in act['name']  and 'US' in act['location']][0]\n",
    "            hydrochar_production.new_exchange(input=electricity.key, amount=0, unit=\"kilowatt hour\", type='technosphere', \n",
    "                                                formula='post_processing_' + f'HTC_{feedstock.name}_{temp}C_{time}hr').save()\n",
    "            hydrochar_production.save()\n",
    "            \n",
    "            parameters.add_exchanges_to_group(f\"hydrochar production, {feedstock.name}_{temp}C_{time}hr\", hydrochar_production)\n",
    "            ActivityParameter.recalculate_exchanges(f\"hydrochar production, {feedstock.name}_{temp}C_{time}hr\")\n",
    "            print()        "
   ]
  },
  {
   "cell_type": "code",
   "execution_count": 29,
   "metadata": {},
   "outputs": [
    {
     "name": "stdout",
     "output_type": "stream",
     "text": [
      "'hydrochar production, stdBSG_190C_1hr' (kg, US, None)\n",
      "Exchange: 3.5811632604478727 kilogram 'market for water, completely softened' (kilogram, US, None) to 'hydrochar production, stdBSG_190C_1hr' (kg, US, None)>\n",
      "Exchange: 0.05707773909465434 kilowatt hour 'market group for electricity, low voltage' (kilowatt hour, US, None) to 'hydrochar production, stdBSG_190C_1hr' (kg, US, None)>\n",
      "Exchange: 2.2779740642281054 kilowatt hour 'market group for electricity, low voltage' (kilowatt hour, US, None) to 'hydrochar production, stdBSG_190C_1hr' (kg, US, None)>\n",
      "Exchange: -0.0364460144504794 kg 'Carbon dioxide, non-fossil, resource correction' (kg, None, None) to 'hydrochar production, stdBSG_190C_1hr' (kg, US, None)>\n",
      "Exchange: -0.010016411798984264 cubic meter 'treatment of wastewater, average, wastewater treatment' (cubic meter, RoW, None) to 'hydrochar production, stdBSG_190C_1hr' (kg, US, None)>\n",
      "Exchange: 28.815 kilowatt hour 'market group for electricity, low voltage' (kilowatt hour, US, None) to 'hydrochar production, stdBSG_190C_1hr' (kg, US, None)>\n",
      "\n",
      "'hydrochar production, stdSRU_250C_3hr' (kg, US, None)\n",
      "Exchange: 1.1254961135958599 kilogram 'market for water, completely softened' (kilogram, US, None) to 'hydrochar production, stdSRU_250C_3hr' (kg, US, None)>\n",
      "Exchange: 0.11484758841001667 kilowatt hour 'market group for electricity, low voltage' (kilowatt hour, US, None) to 'hydrochar production, stdSRU_250C_3hr' (kg, US, None)>\n",
      "Exchange: 5.344440234799236 kilowatt hour 'market group for electricity, low voltage' (kilowatt hour, US, None) to 'hydrochar production, stdSRU_250C_3hr' (kg, US, None)>\n",
      "Exchange: -0.03175584261969031 kg 'Carbon dioxide, non-fossil, resource correction' (kg, None, None) to 'hydrochar production, stdSRU_250C_3hr' (kg, US, None)>\n",
      "Exchange: -0.003631844086013314 cubic meter 'treatment of wastewater, average, wastewater treatment' (cubic meter, RoW, None) to 'hydrochar production, stdSRU_250C_3hr' (kg, US, None)>\n",
      "Exchange: 28.815 kilowatt hour 'market group for electricity, low voltage' (kilowatt hour, US, None) to 'hydrochar production, stdSRU_250C_3hr' (kg, US, None)>\n",
      "\n",
      "'hydrochar production, rawDCW_250C_3hr' (kg, US, None)\n",
      "Exchange: 0.0 kilogram 'market for water, completely softened' (kilogram, US, None) to 'hydrochar production, rawDCW_250C_3hr' (kg, US, None)>\n",
      "Exchange: 0.5517320599213396 kilowatt hour 'market group for electricity, low voltage' (kilowatt hour, US, None) to 'hydrochar production, rawDCW_250C_3hr' (kg, US, None)>\n",
      "Exchange: 18.429392932309625 kilowatt hour 'market group for electricity, low voltage' (kilowatt hour, US, None) to 'hydrochar production, rawDCW_250C_3hr' (kg, US, None)>\n",
      "Exchange: -0.2777161922305209 kg 'Carbon dioxide, non-fossil, resource correction' (kg, None, None) to 'hydrochar production, rawDCW_250C_3hr' (kg, US, None)>\n",
      "Exchange: -0.05156263581954914 cubic meter 'treatment of wastewater, average, wastewater treatment' (cubic meter, RoW, None) to 'hydrochar production, rawDCW_250C_3hr' (kg, US, None)>\n",
      "Exchange: 28.815 kilowatt hour 'market group for electricity, low voltage' (kilowatt hour, US, None) to 'hydrochar production, rawDCW_250C_3hr' (kg, US, None)>\n",
      "\n",
      "'hydrochar production, rawDCW_190C_3hr' (kg, US, None)\n",
      "Exchange: 0.0 kilogram 'market for water, completely softened' (kilogram, US, None) to 'hydrochar production, rawDCW_190C_3hr' (kg, US, None)>\n",
      "Exchange: 0.4512728255547088 kilowatt hour 'market group for electricity, low voltage' (kilowatt hour, US, None) to 'hydrochar production, rawDCW_190C_3hr' (kg, US, None)>\n",
      "Exchange: 13.861886998120793 kilowatt hour 'market group for electricity, low voltage' (kilowatt hour, US, None) to 'hydrochar production, rawDCW_190C_3hr' (kg, US, None)>\n",
      "Exchange: -0.14313988821754794 kilogram 'Carbon dioxide, non-fossil, resource correction' (kilogram, None, ('natural resource', 'in air')) to 'hydrochar production, rawDCW_190C_3hr' (kg, US, None)>\n",
      "Exchange: -0.05331388615338748 cubic meter 'treatment of wastewater, average, wastewater treatment' (cubic meter, RoW, None) to 'hydrochar production, rawDCW_190C_3hr' (kg, US, None)>\n",
      "Exchange: 28.815 kilowatt hour 'market group for electricity, low voltage' (kilowatt hour, US, None) to 'hydrochar production, rawDCW_190C_3hr' (kg, US, None)>\n",
      "\n",
      "'hydrochar production, stdBSG_220C_1hr' (kg, US, None)\n",
      "Exchange: 2.939076532739481 kilogram 'market for water, completely softened' (kilogram, US, None) to 'hydrochar production, stdBSG_220C_1hr' (kg, US, None)>\n",
      "Exchange: 0.05634078737912236 kilowatt hour 'market group for electricity, low voltage' (kilowatt hour, US, None) to 'hydrochar production, stdBSG_220C_1hr' (kg, US, None)>\n",
      "Exchange: 2.4474660721699553 kilowatt hour 'market group for electricity, low voltage' (kilowatt hour, US, None) to 'hydrochar production, stdBSG_220C_1hr' (kg, US, None)>\n",
      "Exchange: -0.06700675649547974 kilogram 'Carbon dioxide, non-fossil, resource correction' (kilogram, None, ('natural resource', 'in air')) to 'hydrochar production, stdBSG_220C_1hr' (kg, US, None)>\n",
      "Exchange: -0.008004122554461866 cubic meter 'treatment of wastewater, average, wastewater treatment' (cubic meter, RoW, None) to 'hydrochar production, stdBSG_220C_1hr' (kg, US, None)>\n",
      "Exchange: 28.815 kilowatt hour 'market group for electricity, low voltage' (kilowatt hour, US, None) to 'hydrochar production, stdBSG_220C_1hr' (kg, US, None)>\n",
      "\n",
      "'hydrochar production, rawDCW_220C_1hr' (kg, US, None)\n",
      "Exchange: 0.0 kilogram 'market for water, completely softened' (kilogram, US, None) to 'hydrochar production, rawDCW_220C_1hr' (kg, US, None)>\n",
      "Exchange: 0.42538973670885977 kilowatt hour 'market group for electricity, low voltage' (kilowatt hour, US, None) to 'hydrochar production, rawDCW_220C_1hr' (kg, US, None)>\n",
      "Exchange: 13.96029635717691 kilowatt hour 'market group for electricity, low voltage' (kilowatt hour, US, None) to 'hydrochar production, rawDCW_220C_1hr' (kg, US, None)>\n",
      "Exchange: -0.19500366054659704 kg 'Carbon dioxide, non-fossil, resource correction' (kg, None, None) to 'hydrochar production, rawDCW_220C_1hr' (kg, US, None)>\n",
      "Exchange: -0.054420907018651904 cubic meter 'treatment of wastewater, average, wastewater treatment' (cubic meter, RoW, None) to 'hydrochar production, rawDCW_220C_1hr' (kg, US, None)>\n",
      "Exchange: 28.815 kilowatt hour 'market group for electricity, low voltage' (kilowatt hour, US, None) to 'hydrochar production, rawDCW_220C_1hr' (kg, US, None)>\n",
      "\n",
      "'hydrochar production, stdBSG_190C_3hr' (kg, US, None)\n",
      "Exchange: 2.8039252446289007 kilogram 'market for water, completely softened' (kilogram, US, None) to 'hydrochar production, stdBSG_190C_3hr' (kg, US, None)>\n",
      "Exchange: 0.11617570256069533 kilowatt hour 'market group for electricity, low voltage' (kilowatt hour, US, None) to 'hydrochar production, stdBSG_190C_3hr' (kg, US, None)>\n",
      "Exchange: 4.272622283693647 kilowatt hour 'market group for electricity, low voltage' (kilowatt hour, US, None) to 'hydrochar production, stdBSG_190C_3hr' (kg, US, None)>\n",
      "Exchange: -0.047953443119271605 kg 'Carbon dioxide, non-fossil, resource correction' (kg, None, None) to 'hydrochar production, stdBSG_190C_3hr' (kg, US, None)>\n",
      "Exchange: -0.007606046610625158 cubic meter 'treatment of wastewater, average, wastewater treatment' (cubic meter, RoW, None) to 'hydrochar production, stdBSG_190C_3hr' (kg, US, None)>\n",
      "Exchange: 28.815 kilowatt hour 'market group for electricity, low voltage' (kilowatt hour, US, None) to 'hydrochar production, stdBSG_190C_3hr' (kg, US, None)>\n",
      "\n",
      "'hydrochar production, stdSRU_190C_1hr' (kg, US, None)\n",
      "Exchange: 1.4013095047525619 kilogram 'market for water, completely softened' (kilogram, US, None) to 'hydrochar production, stdSRU_190C_1hr' (kg, US, None)>\n",
      "Exchange: 0.04770949807419546 kilowatt hour 'market group for electricity, low voltage' (kilowatt hour, US, None) to 'hydrochar production, stdSRU_190C_1hr' (kg, US, None)>\n",
      "Exchange: 1.802243989661737 kilowatt hour 'market group for electricity, low voltage' (kilowatt hour, US, None) to 'hydrochar production, stdSRU_190C_1hr' (kg, US, None)>\n",
      "Exchange: -0.013643627895201066 kg 'Carbon dioxide, non-fossil, resource correction' (kg, None, None) to 'hydrochar production, stdSRU_190C_1hr' (kg, US, None)>\n",
      "Exchange: -0.004792815254914784 cubic meter 'treatment of wastewater, average, wastewater treatment' (cubic meter, RoW, None) to 'hydrochar production, stdSRU_190C_1hr' (kg, US, None)>\n",
      "Exchange: 28.815 kilowatt hour 'market group for electricity, low voltage' (kilowatt hour, US, None) to 'hydrochar production, stdSRU_190C_1hr' (kg, US, None)>\n",
      "\n",
      "'hydrochar production, stdSRU_220C_1hr' (kg, US, None)\n",
      "Exchange: 1.1854142947490336 kilogram 'market for water, completely softened' (kilogram, US, None) to 'hydrochar production, stdSRU_220C_1hr' (kg, US, None)>\n",
      "Exchange: 0.047720945479299004 kilowatt hour 'market group for electricity, low voltage' (kilowatt hour, US, None) to 'hydrochar production, stdSRU_220C_1hr' (kg, US, None)>\n",
      "Exchange: 2.0065422780511994 kilowatt hour 'market group for electricity, low voltage' (kilowatt hour, US, None) to 'hydrochar production, stdSRU_220C_1hr' (kg, US, None)>\n",
      "Exchange: -0.025540593899685816 kg 'Carbon dioxide, non-fossil, resource correction' (kg, None, None) to 'hydrochar production, stdSRU_220C_1hr' (kg, US, None)>\n",
      "Exchange: -0.0038863360031058023 cubic meter 'treatment of wastewater, average, wastewater treatment' (cubic meter, RoW, None) to 'hydrochar production, stdSRU_220C_1hr' (kg, US, None)>\n",
      "Exchange: 28.815 kilowatt hour 'market group for electricity, low voltage' (kilowatt hour, US, None) to 'hydrochar production, stdSRU_220C_1hr' (kg, US, None)>\n",
      "\n",
      "'hydrochar production, stdBSG_250C_3hr' (kg, US, None)\n",
      "Exchange: 3.0457978703151456 kilogram 'market for water, completely softened' (kilogram, US, None) to 'hydrochar production, stdBSG_250C_3hr' (kg, US, None)>\n",
      "Exchange: 0.12559110371238166 kilowatt hour 'market group for electricity, low voltage' (kilowatt hour, US, None) to 'hydrochar production, stdBSG_250C_3hr' (kg, US, None)>\n",
      "Exchange: 5.940318650792458 kilowatt hour 'market group for electricity, low voltage' (kilowatt hour, US, None) to 'hydrochar production, stdBSG_250C_3hr' (kg, US, None)>\n",
      "Exchange: -0.10913249017518395 kg 'Carbon dioxide, non-fossil, resource correction' (kg, None, None) to 'hydrochar production, stdBSG_250C_3hr' (kg, US, None)>\n",
      "Exchange: -0.008291380231728878 cubic meter 'treatment of wastewater, average, wastewater treatment' (cubic meter, RoW, None) to 'hydrochar production, stdBSG_250C_3hr' (kg, US, None)>\n",
      "Exchange: 28.815 kilowatt hour 'market group for electricity, low voltage' (kilowatt hour, US, None) to 'hydrochar production, stdBSG_250C_3hr' (kg, US, None)>\n",
      "\n",
      "'hydrochar production, rawDCW_190C_1hr' (kg, US, None)\n",
      "Exchange: 0.0 kilogram 'market for water, completely softened' (kilogram, US, None) to 'hydrochar production, rawDCW_190C_1hr' (kg, US, None)>\n",
      "Exchange: 0.5254175586964392 kilowatt hour 'market group for electricity, low voltage' (kilowatt hour, US, None) to 'hydrochar production, rawDCW_190C_1hr' (kg, US, None)>\n",
      "Exchange: 17.080005283678084 kilowatt hour 'market group for electricity, low voltage' (kilowatt hour, US, None) to 'hydrochar production, rawDCW_190C_1hr' (kg, US, None)>\n",
      "Exchange: -0.12118516960108892 kg 'Carbon dioxide, non-fossil, resource correction' (kg, None, None) to 'hydrochar production, rawDCW_190C_1hr' (kg, US, None)>\n",
      "Exchange: -0.0816883782605723 cubic meter 'treatment of wastewater, average, wastewater treatment' (cubic meter, RoW, None) to 'hydrochar production, rawDCW_190C_1hr' (kg, US, None)>\n",
      "Exchange: 28.815 kilowatt hour 'market group for electricity, low voltage' (kilowatt hour, US, None) to 'hydrochar production, rawDCW_190C_1hr' (kg, US, None)>\n",
      "\n",
      "'hydrochar production, stdBSG_220C_3hr' (kg, US, None)\n",
      "Exchange: 2.9523978862391664 kilogram 'market for water, completely softened' (kilogram, US, None) to 'hydrochar production, stdBSG_220C_3hr' (kg, US, None)>\n",
      "Exchange: 0.12093778613631977 kilowatt hour 'market group for electricity, low voltage' (kilowatt hour, US, None) to 'hydrochar production, stdBSG_220C_3hr' (kg, US, None)>\n",
      "Exchange: 5.1054824974774276 kilowatt hour 'market group for electricity, low voltage' (kilowatt hour, US, None) to 'hydrochar production, stdBSG_220C_3hr' (kg, US, None)>\n",
      "Exchange: -0.07933844198652908 kg 'Carbon dioxide, non-fossil, resource correction' (kg, None, None) to 'hydrochar production, stdBSG_220C_3hr' (kg, US, None)>\n",
      "Exchange: -0.008032905728977536 cubic meter 'treatment of wastewater, average, wastewater treatment' (cubic meter, RoW, None) to 'hydrochar production, stdBSG_220C_3hr' (kg, US, None)>\n",
      "Exchange: 28.815 kilowatt hour 'market group for electricity, low voltage' (kilowatt hour, US, None) to 'hydrochar production, stdBSG_220C_3hr' (kg, US, None)>\n",
      "\n",
      "'hydrochar production, stdSRU_190C_3hr' (kg, US, None)\n",
      "Exchange: 1.2413443205572885 kilogram 'market for water, completely softened' (kilogram, US, None) to 'hydrochar production, stdSRU_190C_3hr' (kg, US, None)>\n",
      "Exchange: 0.1116802249166801 kilowatt hour 'market group for electricity, low voltage' (kilowatt hour, US, None) to 'hydrochar production, stdSRU_190C_3hr' (kg, US, None)>\n",
      "Exchange: 3.9700552622566088 kilowatt hour 'market group for electricity, low voltage' (kilowatt hour, US, None) to 'hydrochar production, stdSRU_190C_3hr' (kg, US, None)>\n",
      "Exchange: -0.019413962826294342 kg 'Carbon dioxide, non-fossil, resource correction' (kg, None, None) to 'hydrochar production, stdSRU_190C_3hr' (kg, US, None)>\n",
      "Exchange: -0.004124214002501982 cubic meter 'treatment of wastewater, average, wastewater treatment' (cubic meter, RoW, None) to 'hydrochar production, stdSRU_190C_3hr' (kg, US, None)>\n",
      "Exchange: 28.815 kilowatt hour 'market group for electricity, low voltage' (kilowatt hour, US, None) to 'hydrochar production, stdSRU_190C_3hr' (kg, US, None)>\n",
      "\n",
      "'hydrochar production, stdSRU_220C_3hr' (kg, US, None)\n",
      "Exchange: 1.1468569726634246 kilogram 'market for water, completely softened' (kilogram, US, None) to 'hydrochar production, stdSRU_220C_3hr' (kg, US, None)>\n",
      "Exchange: 0.11290551957793539 kilowatt hour 'market group for electricity, low voltage' (kilowatt hour, US, None) to 'hydrochar production, stdSRU_220C_3hr' (kg, US, None)>\n",
      "Exchange: 4.6373573706747475 kilowatt hour 'market group for electricity, low voltage' (kilowatt hour, US, None) to 'hydrochar production, stdSRU_220C_3hr' (kg, US, None)>\n",
      "Exchange: -0.03368262290040564 kg 'Carbon dioxide, non-fossil, resource correction' (kg, None, None) to 'hydrochar production, stdSRU_220C_3hr' (kg, US, None)>\n",
      "Exchange: -0.0037184280519001367 cubic meter 'treatment of wastewater, average, wastewater treatment' (cubic meter, RoW, None) to 'hydrochar production, stdSRU_220C_3hr' (kg, US, None)>\n",
      "Exchange: 28.815 kilowatt hour 'market group for electricity, low voltage' (kilowatt hour, US, None) to 'hydrochar production, stdSRU_220C_3hr' (kg, US, None)>\n",
      "\n",
      "'hydrochar production, stdBSG_250C_1hr' (kg, US, None)\n",
      "Exchange: 3.203986984903217 kilogram 'market for water, completely softened' (kilogram, US, None) to 'hydrochar production, stdBSG_250C_1hr' (kg, US, None)>\n",
      "Exchange: 0.06260219185225777 kilowatt hour 'market group for electricity, low voltage' (kilowatt hour, US, None) to 'hydrochar production, stdBSG_250C_1hr' (kg, US, None)>\n",
      "Exchange: 2.944869962466106 kilowatt hour 'market group for electricity, low voltage' (kilowatt hour, US, None) to 'hydrochar production, stdBSG_250C_1hr' (kg, US, None)>\n",
      "Exchange: -0.09521741729206844 kg 'Carbon dioxide, non-fossil, resource correction' (kg, None, None) to 'hydrochar production, stdBSG_250C_1hr' (kg, US, None)>\n",
      "Exchange: -0.008793528223363769 cubic meter 'treatment of wastewater, average, wastewater treatment' (cubic meter, RoW, None) to 'hydrochar production, stdBSG_250C_1hr' (kg, US, None)>\n",
      "Exchange: 28.815 kilowatt hour 'market group for electricity, low voltage' (kilowatt hour, US, None) to 'hydrochar production, stdBSG_250C_1hr' (kg, US, None)>\n",
      "\n",
      "'hydrochar production, rawDCW_220C_3hr' (kg, US, None)\n",
      "Exchange: 0.0 kilogram 'market for water, completely softened' (kilogram, US, None) to 'hydrochar production, rawDCW_220C_3hr' (kg, US, None)>\n",
      "Exchange: 0.5418962231053955 kilowatt hour 'market group for electricity, low voltage' (kilowatt hour, US, None) to 'hydrochar production, rawDCW_220C_3hr' (kg, US, None)>\n",
      "Exchange: 17.48422960332 kilowatt hour 'market group for electricity, low voltage' (kilowatt hour, US, None) to 'hydrochar production, rawDCW_220C_3hr' (kg, US, None)>\n",
      "Exchange: -0.24211560373134813 kilogram 'Carbon dioxide, non-fossil, resource correction' (kilogram, None, ('natural resource', 'in air')) to 'hydrochar production, rawDCW_220C_3hr' (kg, US, None)>\n",
      "Exchange: -0.058208051033168486 cubic meter 'treatment of wastewater, average, wastewater treatment' (cubic meter, RoW, None) to 'hydrochar production, rawDCW_220C_3hr' (kg, US, None)>\n",
      "Exchange: 28.815 kilowatt hour 'market group for electricity, low voltage' (kilowatt hour, US, None) to 'hydrochar production, rawDCW_220C_3hr' (kg, US, None)>\n",
      "\n",
      "'hydrochar production, rawDCW_250C_1hr' (kg, US, None)\n",
      "Exchange: 0.0 kilogram 'market for water, completely softened' (kilogram, US, None) to 'hydrochar production, rawDCW_250C_1hr' (kg, US, None)>\n",
      "Exchange: 0.48273112707202087 kilowatt hour 'market group for electricity, low voltage' (kilowatt hour, US, None) to 'hydrochar production, rawDCW_250C_1hr' (kg, US, None)>\n",
      "Exchange: 16.071618959712737 kilowatt hour 'market group for electricity, low voltage' (kilowatt hour, US, None) to 'hydrochar production, rawDCW_250C_1hr' (kg, US, None)>\n",
      "Exchange: -0.2705613293834494 kg 'Carbon dioxide, non-fossil, resource correction' (kg, None, None) to 'hydrochar production, rawDCW_250C_1hr' (kg, US, None)>\n",
      "Exchange: -0.05427224973768546 cubic meter 'treatment of wastewater, average, wastewater treatment' (cubic meter, RoW, None) to 'hydrochar production, rawDCW_250C_1hr' (kg, US, None)>\n",
      "Exchange: 28.815 kilowatt hour 'market group for electricity, low voltage' (kilowatt hour, US, None) to 'hydrochar production, rawDCW_250C_1hr' (kg, US, None)>\n",
      "\n",
      "'hydrochar production, stdSRU_250C_1hr' (kg, US, None)\n",
      "Exchange: 1.200266137520832 kilogram 'market for water, completely softened' (kilogram, US, None) to 'hydrochar production, stdSRU_250C_1hr' (kg, US, None)>\n",
      "Exchange: 0.05026461527593569 kilowatt hour 'market group for electricity, low voltage' (kilowatt hour, US, None) to 'hydrochar production, stdSRU_250C_1hr' (kg, US, None)>\n",
      "Exchange: 2.3288673894075758 kilowatt hour 'market group for electricity, low voltage' (kilowatt hour, US, None) to 'hydrochar production, stdSRU_250C_1hr' (kg, US, None)>\n",
      "Exchange: -0.03403719297614136 kilogram 'Carbon dioxide, non-fossil, resource correction' (kilogram, None, ('natural resource', 'in air')) to 'hydrochar production, stdSRU_250C_1hr' (kg, US, None)>\n",
      "Exchange: -0.0039393794236295375 cubic meter 'treatment of wastewater, average, wastewater treatment' (cubic meter, RoW, None) to 'hydrochar production, stdSRU_250C_1hr' (kg, US, None)>\n",
      "Exchange: 28.815 kilowatt hour 'market group for electricity, low voltage' (kilowatt hour, US, None) to 'hydrochar production, stdSRU_250C_1hr' (kg, US, None)>\n",
      "\n"
     ]
    }
   ],
   "source": [
    "# Cross Checking Exchanges \n",
    "for act in [act for act in eidb if 'hydrochar production' in act['name']]:\n",
    "    print(act)\n",
    "    for exc in act.exchanges():\n",
    "        print(exc)\n",
    "    print()"
   ]
  },
  {
   "cell_type": "markdown",
   "metadata": {},
   "source": [
    "### 2.3: Life Cycle Assessment"
   ]
  },
  {
   "cell_type": "code",
   "execution_count": 30,
   "metadata": {},
   "outputs": [
    {
     "data": {
      "text/plain": [
       "[('TRACI v2.1 no LT',\n",
       "  'acidification no LT',\n",
       "  'acidification potential (AP) no LT'),\n",
       " ('TRACI v2.1 no LT',\n",
       "  'climate change no LT',\n",
       "  'global warming potential (GWP100) no LT'),\n",
       " ('TRACI v2.1 no LT',\n",
       "  'ecotoxicity: freshwater no LT',\n",
       "  'ecotoxicity: freshwater no LT'),\n",
       " ('TRACI v2.1 no LT',\n",
       "  'eutrophication no LT',\n",
       "  'eutrophication potential no LT'),\n",
       " ('TRACI v2.1 no LT',\n",
       "  'human toxicity: carcinogenic no LT',\n",
       "  'human toxicity: carcinogenic no LT'),\n",
       " ('TRACI v2.1 no LT',\n",
       "  'human toxicity: non-carcinogenic no LT',\n",
       "  'human toxicity: non-carcinogenic no LT'),\n",
       " ('TRACI v2.1 no LT',\n",
       "  'ozone depletion no LT',\n",
       "  'ozone depletion potential (ODP) no LT'),\n",
       " ('TRACI v2.1 no LT',\n",
       "  'particulate matter formation no LT',\n",
       "  'particulate matter formation potential (PMFP) no LT'),\n",
       " ('TRACI v2.1 no LT',\n",
       "  'photochemical oxidant formation no LT',\n",
       "  'maximum incremental reactivity (MIR) no LT'),\n",
       " ('TRACI v2.1', 'acidification', 'acidification potential (AP)'),\n",
       " ('TRACI v2.1', 'climate change', 'global warming potential (GWP100)'),\n",
       " ('TRACI v2.1', 'ecotoxicity: freshwater', 'ecotoxicity: freshwater'),\n",
       " ('TRACI v2.1', 'eutrophication', 'eutrophication potential'),\n",
       " ('TRACI v2.1',\n",
       "  'human toxicity: carcinogenic',\n",
       "  'human toxicity: carcinogenic'),\n",
       " ('TRACI v2.1',\n",
       "  'human toxicity: non-carcinogenic',\n",
       "  'human toxicity: non-carcinogenic'),\n",
       " ('TRACI v2.1', 'ozone depletion', 'ozone depletion potential (ODP)'),\n",
       " ('TRACI v2.1',\n",
       "  'particulate matter formation',\n",
       "  'particulate matter formation potential (PMFP)'),\n",
       " ('TRACI v2.1',\n",
       "  'photochemical oxidant formation',\n",
       "  'maximum incremental reactivity (MIR)')]"
      ]
     },
     "execution_count": 30,
     "metadata": {},
     "output_type": "execute_result"
    }
   ],
   "source": [
    "[m for m in bw.methods if 'TRACI' in str(m)]"
   ]
  },
  {
   "cell_type": "code",
   "execution_count": 31,
   "metadata": {},
   "outputs": [],
   "source": [
    "method_key = [m for m in bw.methods if 'TRACI' in str(m) and 'global warming' in str(m)][0]\n",
    "activity = [act for act in eidb if 'hydrochar production' in act['name']][0]\n",
    "functional_unit = { activity:1e-3}"
   ]
  },
  {
   "cell_type": "code",
   "execution_count": 34,
   "metadata": {},
   "outputs": [
    {
     "name": "stdout",
     "output_type": "stream",
     "text": [
      "Updating all LCIA methods\n"
     ]
    },
    {
     "name": "stderr",
     "output_type": "stream",
     "text": [
      "762it [02:59,  4.24it/s]\n"
     ]
    },
    {
     "name": "stdout",
     "output_type": "stream",
     "text": [
      "Updating all LCI databases\n"
     ]
    },
    {
     "name": "stderr",
     "output_type": "stream",
     "text": [
      "2it [00:48, 24.09s/it]\n"
     ]
    }
   ],
   "source": [
    "bd.projects.migrate_project_25()"
   ]
  },
  {
   "cell_type": "code",
   "execution_count": 35,
   "metadata": {},
   "outputs": [],
   "source": [
    "lca = bw.LCA(functional_unit, method_key)"
   ]
  },
  {
   "cell_type": "code",
   "execution_count": 36,
   "metadata": {},
   "outputs": [],
   "source": [
    "lca.lci()\n",
    "lca.lcia()"
   ]
  },
  {
   "cell_type": "code",
   "execution_count": 37,
   "metadata": {},
   "outputs": [
    {
     "data": {
      "text/plain": [
       "{29306: 0.001}"
      ]
     },
     "execution_count": 37,
     "metadata": {},
     "output_type": "execute_result"
    }
   ],
   "source": [
    "lca.demand"
   ]
  },
  {
   "cell_type": "code",
   "execution_count": 38,
   "metadata": {},
   "outputs": [
    {
     "data": {
      "text/plain": [
       "('TRACI v2.1 no LT',\n",
       " 'climate change no LT',\n",
       " 'global warming potential (GWP100) no LT')"
      ]
     },
     "execution_count": 38,
     "metadata": {},
     "output_type": "execute_result"
    }
   ],
   "source": [
    "lca.method"
   ]
  },
  {
   "cell_type": "code",
   "execution_count": 40,
   "metadata": {},
   "outputs": [
    {
     "name": "stdout",
     "output_type": "stream",
     "text": [
      "The hydrochar production, stdBSG_190C_3hr process accounts for 0.016434 kg CO2-Eq.\n"
     ]
    }
   ],
   "source": [
    "print(\"The {} process accounts for {:f} {}.\".format(\n",
    "    list(functional_unit.keys())[0]['name'],\n",
    "    lca.score,\n",
    "    bw.methods.get(method_key).get('unit')\n",
    "    ))"
   ]
  },
  {
   "cell_type": "code",
   "execution_count": 41,
   "metadata": {},
   "outputs": [],
   "source": [
    "total_impact = lca.score"
   ]
  },
  {
   "cell_type": "code",
   "execution_count": 42,
   "metadata": {},
   "outputs": [
    {
     "data": {
      "text/plain": [
       "'hydrochar production, rawDCW_220C_3hr' (kg, US, None)"
      ]
     },
     "execution_count": 42,
     "metadata": {},
     "output_type": "execute_result"
    }
   ],
   "source": [
    "[act for act in eidb if 'hydrochar production' in act['name']][0]"
   ]
  },
  {
   "cell_type": "code",
   "execution_count": 43,
   "metadata": {},
   "outputs": [
    {
     "name": "stdout",
     "output_type": "stream",
     "text": [
      "'market for water, completely softened' (kilogram, US, None)\n",
      "'market group for electricity, low voltage' (kilowatt hour, US, None)\n",
      "'market group for electricity, low voltage' (kilowatt hour, US, None)\n",
      "'Carbon dioxide, non-fossil, resource correction' (kg, None, None)\n",
      "'treatment of wastewater, average, wastewater treatment' (cubic meter, RoW, None)\n",
      "'market group for electricity, low voltage' (kilowatt hour, US, None)\n",
      "Exchange: Exchange: 2.8039252446289007 kilogram 'market for water, completely softened' (kilogram, US, None) to 'hydrochar production, stdBSG_190C_3hr' (kg, US, None)>\n",
      "Contribution: 0.0012\n",
      "Percentage of total impact: 0.01%\n",
      "----------------------------------------\n",
      "Exchange: Exchange: 0.11617570256069533 kilowatt hour 'market group for electricity, low voltage' (kilowatt hour, US, None) to 'hydrochar production, stdBSG_190C_3hr' (kg, US, None)>\n",
      "Contribution: 0.0575\n",
      "Percentage of total impact: 0.35%\n",
      "----------------------------------------\n",
      "Exchange: Exchange: 4.272622283693647 kilowatt hour 'market group for electricity, low voltage' (kilowatt hour, US, None) to 'hydrochar production, stdBSG_190C_3hr' (kg, US, None)>\n",
      "Contribution: 2.1137\n",
      "Percentage of total impact: 12.86%\n",
      "----------------------------------------\n",
      "Exchange: Exchange: -0.007606046610625158 cubic meter 'treatment of wastewater, average, wastewater treatment' (cubic meter, RoW, None) to 'hydrochar production, stdBSG_190C_3hr' (kg, US, None)>\n",
      "Contribution: 0.0062\n",
      "Percentage of total impact: 0.04%\n",
      "----------------------------------------\n",
      "Exchange: Exchange: 28.815 kilowatt hour 'market group for electricity, low voltage' (kilowatt hour, US, None) to 'hydrochar production, stdBSG_190C_3hr' (kg, US, None)>\n",
      "Contribution: 14.2550\n",
      "Percentage of total impact: 86.74%\n",
      "----------------------------------------\n"
     ]
    }
   ],
   "source": [
    "exchange_contributions = []\n",
    "for exc in activity.exchanges():\n",
    "    # Create a temporary LCA object for each exchange\n",
    "    temp_lca = bw.LCA({exc.input: exc['amount']}, method_key)\n",
    "    print(exc.input)\n",
    "    if 'Carbon dioxide' in str(exc.input): \n",
    "        pass\n",
    "        # temp_lca.lci()\n",
    "        # temp_lca.lcia()\n",
    "    else: \n",
    "        temp_lca.lci()\n",
    "        temp_lca.lcia()\n",
    "        \n",
    "        # Calculate the contribution of this exchange\n",
    "        contribution = temp_lca.score\n",
    "        \n",
    "        # Store the result\n",
    "        exchange_contributions.append({\n",
    "            'exchange': exc,\n",
    "            'contribution': contribution,\n",
    "            'percentage': (contribution * 0.001 / total_impact) * 100\n",
    "        })\n",
    "\n",
    "# Print the results\n",
    "for result in exchange_contributions:\n",
    "    print(f\"Exchange: {result['exchange']}\")\n",
    "    print(f\"Contribution: {result['contribution']:.4f}\")\n",
    "    print(f\"Percentage of total impact: {result['percentage']:.2f}%\")\n",
    "    print('-' * 40)"
   ]
  }
 ],
 "metadata": {
  "kernelspec": {
   "display_name": "venv",
   "language": "python",
   "name": "python3"
  },
  "language_info": {
   "codemirror_mode": {
    "name": "ipython",
    "version": 3
   },
   "file_extension": ".py",
   "mimetype": "text/x-python",
   "name": "python",
   "nbconvert_exporter": "python",
   "pygments_lexer": "ipython3",
   "version": "3.10.7"
  }
 },
 "nbformat": 4,
 "nbformat_minor": 2
}
